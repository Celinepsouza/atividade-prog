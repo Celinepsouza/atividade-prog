{
  "nbformat": 4,
  "nbformat_minor": 0,
  "metadata": {
    "colab": {
      "provenance": [],
      "toc_visible": true
    },
    "kernelspec": {
      "name": "python3",
      "display_name": "Python 3"
    },
    "language_info": {
      "name": "python"
    }
  },
  "cells": [
    {
      "cell_type": "markdown",
      "source": [
        "# 1. Implementando uma rede simples (MLP) usando o Keras - **Breast Cancer Wisconsin (Diagnostic) Dataset (WDBC)**\n"
      ],
      "metadata": {
        "id": "1PboJZ8pecxP"
      }
    },
    {
      "cell_type": "markdown",
      "source": [
        "O conjunto de dados utilizado foi o Breast Cancer Wisconsin (Diagnostic) que é amplamente utilizado em pesquisas de aprendizado de máquina para a tarefa de classificação binária. Ele contém informações obtidas a partir da análise digitalizada de imagens de biópsias de tumores de mama.\n",
        "\n",
        "O objetivo é prever se um tumor é Maligno (M) ou Benigno (B) a partir de 30 variáveis numéricas, que descrevem características como textura, concavidade, simetria e outras medidas relacionadas às células.\n",
        "\n",
        "O dataset possui 569 amostras no total, com uma distribuição de 212 malignos e 357 benignos, representando um problema real e desafiador de diagnóstico médico. Esse tipo de tarefa é importante para auxiliar na detecção precoce de câncer, reduzindo riscos e apoiando decisões clínicas."
      ],
      "metadata": {
        "id": "MwwVy9AycTOj"
      }
    },
    {
      "cell_type": "markdown",
      "source": [
        "## 1.1 Imports"
      ],
      "metadata": {
        "id": "0ynK-hqge3KN"
      }
    },
    {
      "cell_type": "code",
      "execution_count": 34,
      "metadata": {
        "id": "7xbkc9fBaJmv"
      },
      "outputs": [],
      "source": [
        "import pandas as pd\n",
        "import numpy as np\n",
        "\n",
        "import matplotlib.pyplot as plt\n",
        "from IPython.display import display, HTML\n",
        "from sklearn.datasets import load_breast_cancer\n",
        "from sklearn.model_selection import train_test_split\n",
        "from sklearn.preprocessing import StandardScaler\n",
        "from sklearn.metrics import accuracy_score, f1_score\n",
        "\n",
        "import tensorflow as tf\n",
        "from tensorflow.keras.models import Sequential\n",
        "from tensorflow.keras.layers import Dense\n",
        "from tensorflow.keras.optimizers import Adam\n",
        "from tensorflow.keras import backend as K"
      ]
    },
    {
      "cell_type": "markdown",
      "source": [
        "## 1.2 Exploração do Dataset"
      ],
      "metadata": {
        "id": "4T5OvRg6gP_G"
      }
    },
    {
      "cell_type": "markdown",
      "source": [
        "### 1.2.1 Carregar Dataset"
      ],
      "metadata": {
        "id": "4YqyTzA5e-_2"
      }
    },
    {
      "cell_type": "code",
      "source": [
        "# Nomes conforme wdbc.names\n",
        "col_names = [\"ID\", \"Diagnosis\"] + [f\"feature_{i}\" for i in range(1, 31)]\n",
        "df = pd.read_csv(\"wdbc.data\", header=None, names=col_names)\n",
        "\n",
        "# Opções de visualização\n",
        "pd.set_option(\"display.max_columns\", 40)\n",
        "pd.set_option(\"display.width\", 120)\n",
        "pd.set_option(\"display.float_format\", \"{:,.4f}\".format)\n",
        "\n",
        "print(\"Dataset carregado!\")\n"
      ],
      "metadata": {
        "colab": {
          "base_uri": "https://localhost:8080/"
        },
        "id": "gVvUSX17ckgI",
        "outputId": "45a445c6-5851-47e6-be7a-2575581b1964"
      },
      "execution_count": 23,
      "outputs": [
        {
          "output_type": "stream",
          "name": "stdout",
          "text": [
            "Dataset carregado!\n"
          ]
        }
      ]
    },
    {
      "cell_type": "markdown",
      "source": [
        "### 1.2.2 Visão geral do dataset e distribuição das classes\n",
        "\n",
        "Aqui é apresentado uma visão geral do conjunto de dados, destacando o número total de amostras e colunas, bem como a tarefa de classificação binária (diagnóstico de tumores malignos e benignos). Além disso, é exibido a distribuição das classes em tabela e gráfico de barras, o que nos ajuda a verificar o balanceamento entre as categorias."
      ],
      "metadata": {
        "id": "8AdCSxsAfDoQ"
      }
    },
    {
      "cell_type": "code",
      "source": [
        "# Visão geral e classes\n",
        "total_rows, total_cols = df.shape\n",
        "\n",
        "display(HTML(f\"\"\"\n",
        "<h3 style=\"margin-bottom:0\">Breast Cancer Wisconsin (Diagnostic)</h3>\n",
        "<p style=\"margin-top:6px\">Amostras: <b>{total_rows}</b> • Colunas: <b>{total_cols}</b>\n",
        "(1 ID, 1 alvo, 30 features numéricas) • Tarefa: <b>classificação binária</b> (M vs B)</p>\n",
        "\"\"\"))\n",
        "\n",
        "# Distribuição\n",
        "dist = df[\"Diagnosis\"].value_counts().rename_axis(\"Classe\").to_frame(\"Contagem\")\n",
        "dist[\"Proporção\"] = (dist[\"Contagem\"] / len(df)).map(\"{:.1%}\".format)\n",
        "\n",
        "display(\n",
        "    dist.style\n",
        "        .bar(subset=[\"Contagem\"], align=\"mid\", vmax=dist[\"Contagem\"].max(), color=\"#ddd\")\n",
        "        .set_caption(\"Distribuição das classes\")\n",
        ")\n",
        "\n",
        "# Gráfico\n",
        "plt.figure(figsize=(4,3))\n",
        "dist[\"Contagem\"].plot(kind=\"bar\")\n",
        "plt.title(\"Distribuição das classes\")\n",
        "plt.ylabel(\"n\")\n",
        "plt.xticks(rotation=0)\n",
        "plt.tight_layout()\n",
        "plt.show()\n"
      ],
      "metadata": {
        "colab": {
          "base_uri": "https://localhost:8080/",
          "height": 0
        },
        "id": "BPYJKYvhdD06",
        "outputId": "80bb08a2-bb68-4d0d-f4e2-f5b6afb358a7"
      },
      "execution_count": 24,
      "outputs": [
        {
          "output_type": "display_data",
          "data": {
            "text/plain": [
              "<IPython.core.display.HTML object>"
            ],
            "text/html": [
              "\n",
              "<h3 style=\"margin-bottom:0\">Breast Cancer Wisconsin (Diagnostic)</h3>\n",
              "<p style=\"margin-top:6px\">Amostras: <b>569</b> • Colunas: <b>32</b>\n",
              "(1 ID, 1 alvo, 30 features numéricas) • Tarefa: <b>classificação binária</b> (M vs B)</p>\n"
            ]
          },
          "metadata": {}
        },
        {
          "output_type": "display_data",
          "data": {
            "text/plain": [
              "<pandas.io.formats.style.Styler at 0x7a91d4b6d610>"
            ],
            "text/html": [
              "<style type=\"text/css\">\n",
              "#T_76ecd_row0_col0 {\n",
              "  width: 10em;\n",
              "  background: linear-gradient(90deg, #ddd 100.0%, transparent 100.0%);\n",
              "}\n",
              "#T_76ecd_row1_col0 {\n",
              "  width: 10em;\n",
              "  background: linear-gradient(90deg, #ddd 59.4%, transparent 59.4%);\n",
              "}\n",
              "</style>\n",
              "<table id=\"T_76ecd\" class=\"dataframe\">\n",
              "  <caption>Distribuição das classes</caption>\n",
              "  <thead>\n",
              "    <tr>\n",
              "      <th class=\"blank level0\" >&nbsp;</th>\n",
              "      <th id=\"T_76ecd_level0_col0\" class=\"col_heading level0 col0\" >Contagem</th>\n",
              "      <th id=\"T_76ecd_level0_col1\" class=\"col_heading level0 col1\" >Proporção</th>\n",
              "    </tr>\n",
              "    <tr>\n",
              "      <th class=\"index_name level0\" >Classe</th>\n",
              "      <th class=\"blank col0\" >&nbsp;</th>\n",
              "      <th class=\"blank col1\" >&nbsp;</th>\n",
              "    </tr>\n",
              "  </thead>\n",
              "  <tbody>\n",
              "    <tr>\n",
              "      <th id=\"T_76ecd_level0_row0\" class=\"row_heading level0 row0\" >B</th>\n",
              "      <td id=\"T_76ecd_row0_col0\" class=\"data row0 col0\" >357</td>\n",
              "      <td id=\"T_76ecd_row0_col1\" class=\"data row0 col1\" >62.7%</td>\n",
              "    </tr>\n",
              "    <tr>\n",
              "      <th id=\"T_76ecd_level0_row1\" class=\"row_heading level0 row1\" >M</th>\n",
              "      <td id=\"T_76ecd_row1_col0\" class=\"data row1 col0\" >212</td>\n",
              "      <td id=\"T_76ecd_row1_col1\" class=\"data row1 col1\" >37.3%</td>\n",
              "    </tr>\n",
              "  </tbody>\n",
              "</table>\n"
            ]
          },
          "metadata": {}
        },
        {
          "output_type": "display_data",
          "data": {
            "text/plain": [
              "<Figure size 400x300 with 1 Axes>"
            ],
            "image/png": "[encoded data removed]"
          },
          "metadata": {}
        }
      ]
    },
    {
      "cell_type": "markdown",
      "source": [
        "### 1.2.3 Estatísticas descritivas das features\n",
        "\n",
        "Nesta etapa é calculado estatísticas descritivas (média, desvio padrão, valores mínimos e máximos, entre outros) para cada uma das 30 variáveis numéricas do dataset. Esse resumo nos permite entender a escala dos atributos e identificar possíveis variações importantes entre eles."
      ],
      "metadata": {
        "id": "fIelamC1fL5u"
      }
    },
    {
      "cell_type": "code",
      "source": [
        "# Estatísticas descritivas\n",
        "desc = df.iloc[:, 2:].describe().T  # só as 30 features\n",
        "display(\n",
        "    desc.style\n",
        "        .background_gradient(subset=[\"mean\"], cmap=\"Greens\")\n",
        "        .background_gradient(subset=[\"std\"], cmap=\"Oranges\")\n",
        "        .set_caption(\"Estatísticas descritivas por feature (mean/std destacados)\")\n",
        ")\n"
      ],
      "metadata": {
        "colab": {
          "base_uri": "https://localhost:8080/",
          "height": 0
        },
        "id": "GTwZdDIDd9P3",
        "outputId": "db775d90-186e-4428-a1ca-0dbab4d8c6e7"
      },
      "execution_count": 25,
      "outputs": [
        {
          "output_type": "display_data",
          "data": {
            "text/plain": [
              "<pandas.io.formats.style.Styler at 0x7a9177621790>"
            ],
            "text/html": [
              "<style type=\"text/css\">\n",
              "#T_4a90e_row0_col1, #T_4a90e_row20_col1 {\n",
              "  background-color: #f5fbf2;\n",
              "  color: #000000;\n",
              "}\n",
              "#T_4a90e_row0_col2, #T_4a90e_row1_col2 {\n",
              "  background-color: #fff5ea;\n",
              "  color: #000000;\n",
              "}\n",
              "#T_4a90e_row1_col1 {\n",
              "  background-color: #f4fbf2;\n",
              "  color: #000000;\n",
              "}\n",
              "#T_4a90e_row2_col1 {\n",
              "  background-color: #e8f6e4;\n",
              "  color: #000000;\n",
              "}\n",
              "#T_4a90e_row2_col2 {\n",
              "  background-color: #fff0e2;\n",
              "  color: #000000;\n",
              "}\n",
              "#T_4a90e_row3_col1 {\n",
              "  background-color: #248c46;\n",
              "  color: #f1f1f1;\n",
              "}\n",
              "#T_4a90e_row3_col2 {\n",
              "  background-color: #f26b15;\n",
              "  color: #f1f1f1;\n",
              "}\n",
              "#T_4a90e_row4_col1, #T_4a90e_row5_col1, #T_4a90e_row6_col1, #T_4a90e_row7_col1, #T_4a90e_row8_col1, #T_4a90e_row9_col1, #T_4a90e_row10_col1, #T_4a90e_row11_col1, #T_4a90e_row12_col1, #T_4a90e_row14_col1, #T_4a90e_row15_col1, #T_4a90e_row16_col1, #T_4a90e_row17_col1, #T_4a90e_row18_col1, #T_4a90e_row19_col1, #T_4a90e_row24_col1, #T_4a90e_row25_col1, #T_4a90e_row26_col1, #T_4a90e_row27_col1, #T_4a90e_row28_col1, #T_4a90e_row29_col1 {\n",
              "  background-color: #f7fcf5;\n",
              "  color: #000000;\n",
              "}\n",
              "#T_4a90e_row4_col2, #T_4a90e_row5_col2, #T_4a90e_row6_col2, #T_4a90e_row7_col2, #T_4a90e_row8_col2, #T_4a90e_row9_col2, #T_4a90e_row10_col2, #T_4a90e_row11_col2, #T_4a90e_row12_col2, #T_4a90e_row14_col2, #T_4a90e_row15_col2, #T_4a90e_row16_col2, #T_4a90e_row17_col2, #T_4a90e_row18_col2, #T_4a90e_row19_col2, #T_4a90e_row24_col2, #T_4a90e_row25_col2, #T_4a90e_row26_col2, #T_4a90e_row27_col2, #T_4a90e_row28_col2, #T_4a90e_row29_col2 {\n",
              "  background-color: #fff5eb;\n",
              "  color: #000000;\n",
              "}\n",
              "#T_4a90e_row13_col1 {\n",
              "  background-color: #f1faee;\n",
              "  color: #000000;\n",
              "}\n",
              "#T_4a90e_row13_col2 {\n",
              "  background-color: #feecd9;\n",
              "  color: #000000;\n",
              "}\n",
              "#T_4a90e_row20_col2, #T_4a90e_row21_col2 {\n",
              "  background-color: #fff4e9;\n",
              "  color: #000000;\n",
              "}\n",
              "#T_4a90e_row21_col1 {\n",
              "  background-color: #f3faf0;\n",
              "  color: #000000;\n",
              "}\n",
              "#T_4a90e_row22_col1 {\n",
              "  background-color: #e5f5e1;\n",
              "  color: #000000;\n",
              "}\n",
              "#T_4a90e_row22_col2 {\n",
              "  background-color: #ffeedd;\n",
              "  color: #000000;\n",
              "}\n",
              "#T_4a90e_row23_col1 {\n",
              "  background-color: #00441b;\n",
              "  color: #f1f1f1;\n",
              "}\n",
              "#T_4a90e_row23_col2 {\n",
              "  background-color: #7f2704;\n",
              "  color: #f1f1f1;\n",
              "}\n",
              "</style>\n",
              "<table id=\"T_4a90e\" class=\"dataframe\">\n",
              "  <caption>Estatísticas descritivas por feature (mean/std destacados)</caption>\n",
              "  <thead>\n",
              "    <tr>\n",
              "      <th class=\"blank level0\" >&nbsp;</th>\n",
              "      <th id=\"T_4a90e_level0_col0\" class=\"col_heading level0 col0\" >count</th>\n",
              "      <th id=\"T_4a90e_level0_col1\" class=\"col_heading level0 col1\" >mean</th>\n",
              "      <th id=\"T_4a90e_level0_col2\" class=\"col_heading level0 col2\" >std</th>\n",
              "      <th id=\"T_4a90e_level0_col3\" class=\"col_heading level0 col3\" >min</th>\n",
              "      <th id=\"T_4a90e_level0_col4\" class=\"col_heading level0 col4\" >25%</th>\n",
              "      <th id=\"T_4a90e_level0_col5\" class=\"col_heading level0 col5\" >50%</th>\n",
              "      <th id=\"T_4a90e_level0_col6\" class=\"col_heading level0 col6\" >75%</th>\n",
              "      <th id=\"T_4a90e_level0_col7\" class=\"col_heading level0 col7\" >max</th>\n",
              "    </tr>\n",
              "  </thead>\n",
              "  <tbody>\n",
              "    <tr>\n",
              "      <th id=\"T_4a90e_level0_row0\" class=\"row_heading level0 row0\" >feature_1</th>\n",
              "      <td id=\"T_4a90e_row0_col0\" class=\"data row0 col0\" >569.000000</td>\n",
              "      <td id=\"T_4a90e_row0_col1\" class=\"data row0 col1\" >14.127292</td>\n",
              "      <td id=\"T_4a90e_row0_col2\" class=\"data row0 col2\" >3.524049</td>\n",
              "      <td id=\"T_4a90e_row0_col3\" class=\"data row0 col3\" >6.981000</td>\n",
              "      <td id=\"T_4a90e_row0_col4\" class=\"data row0 col4\" >11.700000</td>\n",
              "      <td id=\"T_4a90e_row0_col5\" class=\"data row0 col5\" >13.370000</td>\n",
              "      <td id=\"T_4a90e_row0_col6\" class=\"data row0 col6\" >15.780000</td>\n",
              "      <td id=\"T_4a90e_row0_col7\" class=\"data row0 col7\" >28.110000</td>\n",
              "    </tr>\n",
              "    <tr>\n",
              "      <th id=\"T_4a90e_level0_row1\" class=\"row_heading level0 row1\" >feature_2</th>\n",
              "      <td id=\"T_4a90e_row1_col0\" class=\"data row1 col0\" >569.000000</td>\n",
              "      <td id=\"T_4a90e_row1_col1\" class=\"data row1 col1\" >19.289649</td>\n",
              "      <td id=\"T_4a90e_row1_col2\" class=\"data row1 col2\" >4.301036</td>\n",
              "      <td id=\"T_4a90e_row1_col3\" class=\"data row1 col3\" >9.710000</td>\n",
              "      <td id=\"T_4a90e_row1_col4\" class=\"data row1 col4\" >16.170000</td>\n",
              "      <td id=\"T_4a90e_row1_col5\" class=\"data row1 col5\" >18.840000</td>\n",
              "      <td id=\"T_4a90e_row1_col6\" class=\"data row1 col6\" >21.800000</td>\n",
              "      <td id=\"T_4a90e_row1_col7\" class=\"data row1 col7\" >39.280000</td>\n",
              "    </tr>\n",
              "    <tr>\n",
              "      <th id=\"T_4a90e_level0_row2\" class=\"row_heading level0 row2\" >feature_3</th>\n",
              "      <td id=\"T_4a90e_row2_col0\" class=\"data row2 col0\" >569.000000</td>\n",
              "      <td id=\"T_4a90e_row2_col1\" class=\"data row2 col1\" >91.969033</td>\n",
              "      <td id=\"T_4a90e_row2_col2\" class=\"data row2 col2\" >24.298981</td>\n",
              "      <td id=\"T_4a90e_row2_col3\" class=\"data row2 col3\" >43.790000</td>\n",
              "      <td id=\"T_4a90e_row2_col4\" class=\"data row2 col4\" >75.170000</td>\n",
              "      <td id=\"T_4a90e_row2_col5\" class=\"data row2 col5\" >86.240000</td>\n",
              "      <td id=\"T_4a90e_row2_col6\" class=\"data row2 col6\" >104.100000</td>\n",
              "      <td id=\"T_4a90e_row2_col7\" class=\"data row2 col7\" >188.500000</td>\n",
              "    </tr>\n",
              "    <tr>\n",
              "      <th id=\"T_4a90e_level0_row3\" class=\"row_heading level0 row3\" >feature_4</th>\n",
              "      <td id=\"T_4a90e_row3_col0\" class=\"data row3 col0\" >569.000000</td>\n",
              "      <td id=\"T_4a90e_row3_col1\" class=\"data row3 col1\" >654.889104</td>\n",
              "      <td id=\"T_4a90e_row3_col2\" class=\"data row3 col2\" >351.914129</td>\n",
              "      <td id=\"T_4a90e_row3_col3\" class=\"data row3 col3\" >143.500000</td>\n",
              "      <td id=\"T_4a90e_row3_col4\" class=\"data row3 col4\" >420.300000</td>\n",
              "      <td id=\"T_4a90e_row3_col5\" class=\"data row3 col5\" >551.100000</td>\n",
              "      <td id=\"T_4a90e_row3_col6\" class=\"data row3 col6\" >782.700000</td>\n",
              "      <td id=\"T_4a90e_row3_col7\" class=\"data row3 col7\" >2501.000000</td>\n",
              "    </tr>\n",
              "    <tr>\n",
              "      <th id=\"T_4a90e_level0_row4\" class=\"row_heading level0 row4\" >feature_5</th>\n",
              "      <td id=\"T_4a90e_row4_col0\" class=\"data row4 col0\" >569.000000</td>\n",
              "      <td id=\"T_4a90e_row4_col1\" class=\"data row4 col1\" >0.096360</td>\n",
              "      <td id=\"T_4a90e_row4_col2\" class=\"data row4 col2\" >0.014064</td>\n",
              "      <td id=\"T_4a90e_row4_col3\" class=\"data row4 col3\" >0.052630</td>\n",
              "      <td id=\"T_4a90e_row4_col4\" class=\"data row4 col4\" >0.086370</td>\n",
              "      <td id=\"T_4a90e_row4_col5\" class=\"data row4 col5\" >0.095870</td>\n",
              "      <td id=\"T_4a90e_row4_col6\" class=\"data row4 col6\" >0.105300</td>\n",
              "      <td id=\"T_4a90e_row4_col7\" class=\"data row4 col7\" >0.163400</td>\n",
              "    </tr>\n",
              "    <tr>\n",
              "      <th id=\"T_4a90e_level0_row5\" class=\"row_heading level0 row5\" >feature_6</th>\n",
              "      <td id=\"T_4a90e_row5_col0\" class=\"data row5 col0\" >569.000000</td>\n",
              "      <td id=\"T_4a90e_row5_col1\" class=\"data row5 col1\" >0.104341</td>\n",
              "      <td id=\"T_4a90e_row5_col2\" class=\"data row5 col2\" >0.052813</td>\n",
              "      <td id=\"T_4a90e_row5_col3\" class=\"data row5 col3\" >0.019380</td>\n",
              "      <td id=\"T_4a90e_row5_col4\" class=\"data row5 col4\" >0.064920</td>\n",
              "      <td id=\"T_4a90e_row5_col5\" class=\"data row5 col5\" >0.092630</td>\n",
              "      <td id=\"T_4a90e_row5_col6\" class=\"data row5 col6\" >0.130400</td>\n",
              "      <td id=\"T_4a90e_row5_col7\" class=\"data row5 col7\" >0.345400</td>\n",
              "    </tr>\n",
              "    <tr>\n",
              "      <th id=\"T_4a90e_level0_row6\" class=\"row_heading level0 row6\" >feature_7</th>\n",
              "      <td id=\"T_4a90e_row6_col0\" class=\"data row6 col0\" >569.000000</td>\n",
              "      <td id=\"T_4a90e_row6_col1\" class=\"data row6 col1\" >0.088799</td>\n",
              "      <td id=\"T_4a90e_row6_col2\" class=\"data row6 col2\" >0.079720</td>\n",
              "      <td id=\"T_4a90e_row6_col3\" class=\"data row6 col3\" >0.000000</td>\n",
              "      <td id=\"T_4a90e_row6_col4\" class=\"data row6 col4\" >0.029560</td>\n",
              "      <td id=\"T_4a90e_row6_col5\" class=\"data row6 col5\" >0.061540</td>\n",
              "      <td id=\"T_4a90e_row6_col6\" class=\"data row6 col6\" >0.130700</td>\n",
              "      <td id=\"T_4a90e_row6_col7\" class=\"data row6 col7\" >0.426800</td>\n",
              "    </tr>\n",
              "    <tr>\n",
              "      <th id=\"T_4a90e_level0_row7\" class=\"row_heading level0 row7\" >feature_8</th>\n",
              "      <td id=\"T_4a90e_row7_col0\" class=\"data row7 col0\" >569.000000</td>\n",
              "      <td id=\"T_4a90e_row7_col1\" class=\"data row7 col1\" >0.048919</td>\n",
              "      <td id=\"T_4a90e_row7_col2\" class=\"data row7 col2\" >0.038803</td>\n",
              "      <td id=\"T_4a90e_row7_col3\" class=\"data row7 col3\" >0.000000</td>\n",
              "      <td id=\"T_4a90e_row7_col4\" class=\"data row7 col4\" >0.020310</td>\n",
              "      <td id=\"T_4a90e_row7_col5\" class=\"data row7 col5\" >0.033500</td>\n",
              "      <td id=\"T_4a90e_row7_col6\" class=\"data row7 col6\" >0.074000</td>\n",
              "      <td id=\"T_4a90e_row7_col7\" class=\"data row7 col7\" >0.201200</td>\n",
              "    </tr>\n",
              "    <tr>\n",
              "      <th id=\"T_4a90e_level0_row8\" class=\"row_heading level0 row8\" >feature_9</th>\n",
              "      <td id=\"T_4a90e_row8_col0\" class=\"data row8 col0\" >569.000000</td>\n",
              "      <td id=\"T_4a90e_row8_col1\" class=\"data row8 col1\" >0.181162</td>\n",
              "      <td id=\"T_4a90e_row8_col2\" class=\"data row8 col2\" >0.027414</td>\n",
              "      <td id=\"T_4a90e_row8_col3\" class=\"data row8 col3\" >0.106000</td>\n",
              "      <td id=\"T_4a90e_row8_col4\" class=\"data row8 col4\" >0.161900</td>\n",
              "      <td id=\"T_4a90e_row8_col5\" class=\"data row8 col5\" >0.179200</td>\n",
              "      <td id=\"T_4a90e_row8_col6\" class=\"data row8 col6\" >0.195700</td>\n",
              "      <td id=\"T_4a90e_row8_col7\" class=\"data row8 col7\" >0.304000</td>\n",
              "    </tr>\n",
              "    <tr>\n",
              "      <th id=\"T_4a90e_level0_row9\" class=\"row_heading level0 row9\" >feature_10</th>\n",
              "      <td id=\"T_4a90e_row9_col0\" class=\"data row9 col0\" >569.000000</td>\n",
              "      <td id=\"T_4a90e_row9_col1\" class=\"data row9 col1\" >0.062798</td>\n",
              "      <td id=\"T_4a90e_row9_col2\" class=\"data row9 col2\" >0.007060</td>\n",
              "      <td id=\"T_4a90e_row9_col3\" class=\"data row9 col3\" >0.049960</td>\n",
              "      <td id=\"T_4a90e_row9_col4\" class=\"data row9 col4\" >0.057700</td>\n",
              "      <td id=\"T_4a90e_row9_col5\" class=\"data row9 col5\" >0.061540</td>\n",
              "      <td id=\"T_4a90e_row9_col6\" class=\"data row9 col6\" >0.066120</td>\n",
              "      <td id=\"T_4a90e_row9_col7\" class=\"data row9 col7\" >0.097440</td>\n",
              "    </tr>\n",
              "    <tr>\n",
              "      <th id=\"T_4a90e_level0_row10\" class=\"row_heading level0 row10\" >feature_11</th>\n",
              "      <td id=\"T_4a90e_row10_col0\" class=\"data row10 col0\" >569.000000</td>\n",
              "      <td id=\"T_4a90e_row10_col1\" class=\"data row10 col1\" >0.405172</td>\n",
              "      <td id=\"T_4a90e_row10_col2\" class=\"data row10 col2\" >0.277313</td>\n",
              "      <td id=\"T_4a90e_row10_col3\" class=\"data row10 col3\" >0.111500</td>\n",
              "      <td id=\"T_4a90e_row10_col4\" class=\"data row10 col4\" >0.232400</td>\n",
              "      <td id=\"T_4a90e_row10_col5\" class=\"data row10 col5\" >0.324200</td>\n",
              "      <td id=\"T_4a90e_row10_col6\" class=\"data row10 col6\" >0.478900</td>\n",
              "      <td id=\"T_4a90e_row10_col7\" class=\"data row10 col7\" >2.873000</td>\n",
              "    </tr>\n",
              "    <tr>\n",
              "      <th id=\"T_4a90e_level0_row11\" class=\"row_heading level0 row11\" >feature_12</th>\n",
              "      <td id=\"T_4a90e_row11_col0\" class=\"data row11 col0\" >569.000000</td>\n",
              "      <td id=\"T_4a90e_row11_col1\" class=\"data row11 col1\" >1.216853</td>\n",
              "      <td id=\"T_4a90e_row11_col2\" class=\"data row11 col2\" >0.551648</td>\n",
              "      <td id=\"T_4a90e_row11_col3\" class=\"data row11 col3\" >0.360200</td>\n",
              "      <td id=\"T_4a90e_row11_col4\" class=\"data row11 col4\" >0.833900</td>\n",
              "      <td id=\"T_4a90e_row11_col5\" class=\"data row11 col5\" >1.108000</td>\n",
              "      <td id=\"T_4a90e_row11_col6\" class=\"data row11 col6\" >1.474000</td>\n",
              "      <td id=\"T_4a90e_row11_col7\" class=\"data row11 col7\" >4.885000</td>\n",
              "    </tr>\n",
              "    <tr>\n",
              "      <th id=\"T_4a90e_level0_row12\" class=\"row_heading level0 row12\" >feature_13</th>\n",
              "      <td id=\"T_4a90e_row12_col0\" class=\"data row12 col0\" >569.000000</td>\n",
              "      <td id=\"T_4a90e_row12_col1\" class=\"data row12 col1\" >2.866059</td>\n",
              "      <td id=\"T_4a90e_row12_col2\" class=\"data row12 col2\" >2.021855</td>\n",
              "      <td id=\"T_4a90e_row12_col3\" class=\"data row12 col3\" >0.757000</td>\n",
              "      <td id=\"T_4a90e_row12_col4\" class=\"data row12 col4\" >1.606000</td>\n",
              "      <td id=\"T_4a90e_row12_col5\" class=\"data row12 col5\" >2.287000</td>\n",
              "      <td id=\"T_4a90e_row12_col6\" class=\"data row12 col6\" >3.357000</td>\n",
              "      <td id=\"T_4a90e_row12_col7\" class=\"data row12 col7\" >21.980000</td>\n",
              "    </tr>\n",
              "    <tr>\n",
              "      <th id=\"T_4a90e_level0_row13\" class=\"row_heading level0 row13\" >feature_14</th>\n",
              "      <td id=\"T_4a90e_row13_col0\" class=\"data row13 col0\" >569.000000</td>\n",
              "      <td id=\"T_4a90e_row13_col1\" class=\"data row13 col1\" >40.337079</td>\n",
              "      <td id=\"T_4a90e_row13_col2\" class=\"data row13 col2\" >45.491006</td>\n",
              "      <td id=\"T_4a90e_row13_col3\" class=\"data row13 col3\" >6.802000</td>\n",
              "      <td id=\"T_4a90e_row13_col4\" class=\"data row13 col4\" >17.850000</td>\n",
              "      <td id=\"T_4a90e_row13_col5\" class=\"data row13 col5\" >24.530000</td>\n",
              "      <td id=\"T_4a90e_row13_col6\" class=\"data row13 col6\" >45.190000</td>\n",
              "      <td id=\"T_4a90e_row13_col7\" class=\"data row13 col7\" >542.200000</td>\n",
              "    </tr>\n",
              "    <tr>\n",
              "      <th id=\"T_4a90e_level0_row14\" class=\"row_heading level0 row14\" >feature_15</th>\n",
              "      <td id=\"T_4a90e_row14_col0\" class=\"data row14 col0\" >569.000000</td>\n",
              "      <td id=\"T_4a90e_row14_col1\" class=\"data row14 col1\" >0.007041</td>\n",
              "      <td id=\"T_4a90e_row14_col2\" class=\"data row14 col2\" >0.003003</td>\n",
              "      <td id=\"T_4a90e_row14_col3\" class=\"data row14 col3\" >0.001713</td>\n",
              "      <td id=\"T_4a90e_row14_col4\" class=\"data row14 col4\" >0.005169</td>\n",
              "      <td id=\"T_4a90e_row14_col5\" class=\"data row14 col5\" >0.006380</td>\n",
              "      <td id=\"T_4a90e_row14_col6\" class=\"data row14 col6\" >0.008146</td>\n",
              "      <td id=\"T_4a90e_row14_col7\" class=\"data row14 col7\" >0.031130</td>\n",
              "    </tr>\n",
              "    <tr>\n",
              "      <th id=\"T_4a90e_level0_row15\" class=\"row_heading level0 row15\" >feature_16</th>\n",
              "      <td id=\"T_4a90e_row15_col0\" class=\"data row15 col0\" >569.000000</td>\n",
              "      <td id=\"T_4a90e_row15_col1\" class=\"data row15 col1\" >0.025478</td>\n",
              "      <td id=\"T_4a90e_row15_col2\" class=\"data row15 col2\" >0.017908</td>\n",
              "      <td id=\"T_4a90e_row15_col3\" class=\"data row15 col3\" >0.002252</td>\n",
              "      <td id=\"T_4a90e_row15_col4\" class=\"data row15 col4\" >0.013080</td>\n",
              "      <td id=\"T_4a90e_row15_col5\" class=\"data row15 col5\" >0.020450</td>\n",
              "      <td id=\"T_4a90e_row15_col6\" class=\"data row15 col6\" >0.032450</td>\n",
              "      <td id=\"T_4a90e_row15_col7\" class=\"data row15 col7\" >0.135400</td>\n",
              "    </tr>\n",
              "    <tr>\n",
              "      <th id=\"T_4a90e_level0_row16\" class=\"row_heading level0 row16\" >feature_17</th>\n",
              "      <td id=\"T_4a90e_row16_col0\" class=\"data row16 col0\" >569.000000</td>\n",
              "      <td id=\"T_4a90e_row16_col1\" class=\"data row16 col1\" >0.031894</td>\n",
              "      <td id=\"T_4a90e_row16_col2\" class=\"data row16 col2\" >0.030186</td>\n",
              "      <td id=\"T_4a90e_row16_col3\" class=\"data row16 col3\" >0.000000</td>\n",
              "      <td id=\"T_4a90e_row16_col4\" class=\"data row16 col4\" >0.015090</td>\n",
              "      <td id=\"T_4a90e_row16_col5\" class=\"data row16 col5\" >0.025890</td>\n",
              "      <td id=\"T_4a90e_row16_col6\" class=\"data row16 col6\" >0.042050</td>\n",
              "      <td id=\"T_4a90e_row16_col7\" class=\"data row16 col7\" >0.396000</td>\n",
              "    </tr>\n",
              "    <tr>\n",
              "      <th id=\"T_4a90e_level0_row17\" class=\"row_heading level0 row17\" >feature_18</th>\n",
              "      <td id=\"T_4a90e_row17_col0\" class=\"data row17 col0\" >569.000000</td>\n",
              "      <td id=\"T_4a90e_row17_col1\" class=\"data row17 col1\" >0.011796</td>\n",
              "      <td id=\"T_4a90e_row17_col2\" class=\"data row17 col2\" >0.006170</td>\n",
              "      <td id=\"T_4a90e_row17_col3\" class=\"data row17 col3\" >0.000000</td>\n",
              "      <td id=\"T_4a90e_row17_col4\" class=\"data row17 col4\" >0.007638</td>\n",
              "      <td id=\"T_4a90e_row17_col5\" class=\"data row17 col5\" >0.010930</td>\n",
              "      <td id=\"T_4a90e_row17_col6\" class=\"data row17 col6\" >0.014710</td>\n",
              "      <td id=\"T_4a90e_row17_col7\" class=\"data row17 col7\" >0.052790</td>\n",
              "    </tr>\n",
              "    <tr>\n",
              "      <th id=\"T_4a90e_level0_row18\" class=\"row_heading level0 row18\" >feature_19</th>\n",
              "      <td id=\"T_4a90e_row18_col0\" class=\"data row18 col0\" >569.000000</td>\n",
              "      <td id=\"T_4a90e_row18_col1\" class=\"data row18 col1\" >0.020542</td>\n",
              "      <td id=\"T_4a90e_row18_col2\" class=\"data row18 col2\" >0.008266</td>\n",
              "      <td id=\"T_4a90e_row18_col3\" class=\"data row18 col3\" >0.007882</td>\n",
              "      <td id=\"T_4a90e_row18_col4\" class=\"data row18 col4\" >0.015160</td>\n",
              "      <td id=\"T_4a90e_row18_col5\" class=\"data row18 col5\" >0.018730</td>\n",
              "      <td id=\"T_4a90e_row18_col6\" class=\"data row18 col6\" >0.023480</td>\n",
              "      <td id=\"T_4a90e_row18_col7\" class=\"data row18 col7\" >0.078950</td>\n",
              "    </tr>\n",
              "    <tr>\n",
              "      <th id=\"T_4a90e_level0_row19\" class=\"row_heading level0 row19\" >feature_20</th>\n",
              "      <td id=\"T_4a90e_row19_col0\" class=\"data row19 col0\" >569.000000</td>\n",
              "      <td id=\"T_4a90e_row19_col1\" class=\"data row19 col1\" >0.003795</td>\n",
              "      <td id=\"T_4a90e_row19_col2\" class=\"data row19 col2\" >0.002646</td>\n",
              "      <td id=\"T_4a90e_row19_col3\" class=\"data row19 col3\" >0.000895</td>\n",
              "      <td id=\"T_4a90e_row19_col4\" class=\"data row19 col4\" >0.002248</td>\n",
              "      <td id=\"T_4a90e_row19_col5\" class=\"data row19 col5\" >0.003187</td>\n",
              "      <td id=\"T_4a90e_row19_col6\" class=\"data row19 col6\" >0.004558</td>\n",
              "      <td id=\"T_4a90e_row19_col7\" class=\"data row19 col7\" >0.029840</td>\n",
              "    </tr>\n",
              "    <tr>\n",
              "      <th id=\"T_4a90e_level0_row20\" class=\"row_heading level0 row20\" >feature_21</th>\n",
              "      <td id=\"T_4a90e_row20_col0\" class=\"data row20 col0\" >569.000000</td>\n",
              "      <td id=\"T_4a90e_row20_col1\" class=\"data row20 col1\" >16.269190</td>\n",
              "      <td id=\"T_4a90e_row20_col2\" class=\"data row20 col2\" >4.833242</td>\n",
              "      <td id=\"T_4a90e_row20_col3\" class=\"data row20 col3\" >7.930000</td>\n",
              "      <td id=\"T_4a90e_row20_col4\" class=\"data row20 col4\" >13.010000</td>\n",
              "      <td id=\"T_4a90e_row20_col5\" class=\"data row20 col5\" >14.970000</td>\n",
              "      <td id=\"T_4a90e_row20_col6\" class=\"data row20 col6\" >18.790000</td>\n",
              "      <td id=\"T_4a90e_row20_col7\" class=\"data row20 col7\" >36.040000</td>\n",
              "    </tr>\n",
              "    <tr>\n",
              "      <th id=\"T_4a90e_level0_row21\" class=\"row_heading level0 row21\" >feature_22</th>\n",
              "      <td id=\"T_4a90e_row21_col0\" class=\"data row21 col0\" >569.000000</td>\n",
              "      <td id=\"T_4a90e_row21_col1\" class=\"data row21 col1\" >25.677223</td>\n",
              "      <td id=\"T_4a90e_row21_col2\" class=\"data row21 col2\" >6.146258</td>\n",
              "      <td id=\"T_4a90e_row21_col3\" class=\"data row21 col3\" >12.020000</td>\n",
              "      <td id=\"T_4a90e_row21_col4\" class=\"data row21 col4\" >21.080000</td>\n",
              "      <td id=\"T_4a90e_row21_col5\" class=\"data row21 col5\" >25.410000</td>\n",
              "      <td id=\"T_4a90e_row21_col6\" class=\"data row21 col6\" >29.720000</td>\n",
              "      <td id=\"T_4a90e_row21_col7\" class=\"data row21 col7\" >49.540000</td>\n",
              "    </tr>\n",
              "    <tr>\n",
              "      <th id=\"T_4a90e_level0_row22\" class=\"row_heading level0 row22\" >feature_23</th>\n",
              "      <td id=\"T_4a90e_row22_col0\" class=\"data row22 col0\" >569.000000</td>\n",
              "      <td id=\"T_4a90e_row22_col1\" class=\"data row22 col1\" >107.261213</td>\n",
              "      <td id=\"T_4a90e_row22_col2\" class=\"data row22 col2\" >33.602542</td>\n",
              "      <td id=\"T_4a90e_row22_col3\" class=\"data row22 col3\" >50.410000</td>\n",
              "      <td id=\"T_4a90e_row22_col4\" class=\"data row22 col4\" >84.110000</td>\n",
              "      <td id=\"T_4a90e_row22_col5\" class=\"data row22 col5\" >97.660000</td>\n",
              "      <td id=\"T_4a90e_row22_col6\" class=\"data row22 col6\" >125.400000</td>\n",
              "      <td id=\"T_4a90e_row22_col7\" class=\"data row22 col7\" >251.200000</td>\n",
              "    </tr>\n",
              "    <tr>\n",
              "      <th id=\"T_4a90e_level0_row23\" class=\"row_heading level0 row23\" >feature_24</th>\n",
              "      <td id=\"T_4a90e_row23_col0\" class=\"data row23 col0\" >569.000000</td>\n",
              "      <td id=\"T_4a90e_row23_col1\" class=\"data row23 col1\" >880.583128</td>\n",
              "      <td id=\"T_4a90e_row23_col2\" class=\"data row23 col2\" >569.356993</td>\n",
              "      <td id=\"T_4a90e_row23_col3\" class=\"data row23 col3\" >185.200000</td>\n",
              "      <td id=\"T_4a90e_row23_col4\" class=\"data row23 col4\" >515.300000</td>\n",
              "      <td id=\"T_4a90e_row23_col5\" class=\"data row23 col5\" >686.500000</td>\n",
              "      <td id=\"T_4a90e_row23_col6\" class=\"data row23 col6\" >1084.000000</td>\n",
              "      <td id=\"T_4a90e_row23_col7\" class=\"data row23 col7\" >4254.000000</td>\n",
              "    </tr>\n",
              "    <tr>\n",
              "      <th id=\"T_4a90e_level0_row24\" class=\"row_heading level0 row24\" >feature_25</th>\n",
              "      <td id=\"T_4a90e_row24_col0\" class=\"data row24 col0\" >569.000000</td>\n",
              "      <td id=\"T_4a90e_row24_col1\" class=\"data row24 col1\" >0.132369</td>\n",
              "      <td id=\"T_4a90e_row24_col2\" class=\"data row24 col2\" >0.022832</td>\n",
              "      <td id=\"T_4a90e_row24_col3\" class=\"data row24 col3\" >0.071170</td>\n",
              "      <td id=\"T_4a90e_row24_col4\" class=\"data row24 col4\" >0.116600</td>\n",
              "      <td id=\"T_4a90e_row24_col5\" class=\"data row24 col5\" >0.131300</td>\n",
              "      <td id=\"T_4a90e_row24_col6\" class=\"data row24 col6\" >0.146000</td>\n",
              "      <td id=\"T_4a90e_row24_col7\" class=\"data row24 col7\" >0.222600</td>\n",
              "    </tr>\n",
              "    <tr>\n",
              "      <th id=\"T_4a90e_level0_row25\" class=\"row_heading level0 row25\" >feature_26</th>\n",
              "      <td id=\"T_4a90e_row25_col0\" class=\"data row25 col0\" >569.000000</td>\n",
              "      <td id=\"T_4a90e_row25_col1\" class=\"data row25 col1\" >0.254265</td>\n",
              "      <td id=\"T_4a90e_row25_col2\" class=\"data row25 col2\" >0.157336</td>\n",
              "      <td id=\"T_4a90e_row25_col3\" class=\"data row25 col3\" >0.027290</td>\n",
              "      <td id=\"T_4a90e_row25_col4\" class=\"data row25 col4\" >0.147200</td>\n",
              "      <td id=\"T_4a90e_row25_col5\" class=\"data row25 col5\" >0.211900</td>\n",
              "      <td id=\"T_4a90e_row25_col6\" class=\"data row25 col6\" >0.339100</td>\n",
              "      <td id=\"T_4a90e_row25_col7\" class=\"data row25 col7\" >1.058000</td>\n",
              "    </tr>\n",
              "    <tr>\n",
              "      <th id=\"T_4a90e_level0_row26\" class=\"row_heading level0 row26\" >feature_27</th>\n",
              "      <td id=\"T_4a90e_row26_col0\" class=\"data row26 col0\" >569.000000</td>\n",
              "      <td id=\"T_4a90e_row26_col1\" class=\"data row26 col1\" >0.272188</td>\n",
              "      <td id=\"T_4a90e_row26_col2\" class=\"data row26 col2\" >0.208624</td>\n",
              "      <td id=\"T_4a90e_row26_col3\" class=\"data row26 col3\" >0.000000</td>\n",
              "      <td id=\"T_4a90e_row26_col4\" class=\"data row26 col4\" >0.114500</td>\n",
              "      <td id=\"T_4a90e_row26_col5\" class=\"data row26 col5\" >0.226700</td>\n",
              "      <td id=\"T_4a90e_row26_col6\" class=\"data row26 col6\" >0.382900</td>\n",
              "      <td id=\"T_4a90e_row26_col7\" class=\"data row26 col7\" >1.252000</td>\n",
              "    </tr>\n",
              "    <tr>\n",
              "      <th id=\"T_4a90e_level0_row27\" class=\"row_heading level0 row27\" >feature_28</th>\n",
              "      <td id=\"T_4a90e_row27_col0\" class=\"data row27 col0\" >569.000000</td>\n",
              "      <td id=\"T_4a90e_row27_col1\" class=\"data row27 col1\" >0.114606</td>\n",
              "      <td id=\"T_4a90e_row27_col2\" class=\"data row27 col2\" >0.065732</td>\n",
              "      <td id=\"T_4a90e_row27_col3\" class=\"data row27 col3\" >0.000000</td>\n",
              "      <td id=\"T_4a90e_row27_col4\" class=\"data row27 col4\" >0.064930</td>\n",
              "      <td id=\"T_4a90e_row27_col5\" class=\"data row27 col5\" >0.099930</td>\n",
              "      <td id=\"T_4a90e_row27_col6\" class=\"data row27 col6\" >0.161400</td>\n",
              "      <td id=\"T_4a90e_row27_col7\" class=\"data row27 col7\" >0.291000</td>\n",
              "    </tr>\n",
              "    <tr>\n",
              "      <th id=\"T_4a90e_level0_row28\" class=\"row_heading level0 row28\" >feature_29</th>\n",
              "      <td id=\"T_4a90e_row28_col0\" class=\"data row28 col0\" >569.000000</td>\n",
              "      <td id=\"T_4a90e_row28_col1\" class=\"data row28 col1\" >0.290076</td>\n",
              "      <td id=\"T_4a90e_row28_col2\" class=\"data row28 col2\" >0.061867</td>\n",
              "      <td id=\"T_4a90e_row28_col3\" class=\"data row28 col3\" >0.156500</td>\n",
              "      <td id=\"T_4a90e_row28_col4\" class=\"data row28 col4\" >0.250400</td>\n",
              "      <td id=\"T_4a90e_row28_col5\" class=\"data row28 col5\" >0.282200</td>\n",
              "      <td id=\"T_4a90e_row28_col6\" class=\"data row28 col6\" >0.317900</td>\n",
              "      <td id=\"T_4a90e_row28_col7\" class=\"data row28 col7\" >0.663800</td>\n",
              "    </tr>\n",
              "    <tr>\n",
              "      <th id=\"T_4a90e_level0_row29\" class=\"row_heading level0 row29\" >feature_30</th>\n",
              "      <td id=\"T_4a90e_row29_col0\" class=\"data row29 col0\" >569.000000</td>\n",
              "      <td id=\"T_4a90e_row29_col1\" class=\"data row29 col1\" >0.083946</td>\n",
              "      <td id=\"T_4a90e_row29_col2\" class=\"data row29 col2\" >0.018061</td>\n",
              "      <td id=\"T_4a90e_row29_col3\" class=\"data row29 col3\" >0.055040</td>\n",
              "      <td id=\"T_4a90e_row29_col4\" class=\"data row29 col4\" >0.071460</td>\n",
              "      <td id=\"T_4a90e_row29_col5\" class=\"data row29 col5\" >0.080040</td>\n",
              "      <td id=\"T_4a90e_row29_col6\" class=\"data row29 col6\" >0.092080</td>\n",
              "      <td id=\"T_4a90e_row29_col7\" class=\"data row29 col7\" >0.207500</td>\n",
              "    </tr>\n",
              "  </tbody>\n",
              "</table>\n"
            ]
          },
          "metadata": {}
        }
      ]
    },
    {
      "cell_type": "markdown",
      "source": [
        "### 1.2.4 Correlação das features com a variável alvo\n",
        "\n",
        "Aqui é analisado a correlação de cada feature com a variável alvo (diagnóstico: maligno ou benigno). Foi listado as 10 variáveis mais relevantes e as apresentamos em gráfico de barras, o que nos auxilia a identificar quais atributos têm maior poder discriminativo para a tarefa de classificação."
      ],
      "metadata": {
        "id": "LIkxZfzbfQop"
      }
    },
    {
      "cell_type": "code",
      "source": [
        "  # Correlações com o alvo\n",
        "# Converte alvo para binário (M=1, B=0)\n",
        "y = (df[\"Diagnosis\"] == \"M\").astype(int)\n",
        "X = df.iloc[:, 2:]\n",
        "\n",
        "# Correlação (Pearson point-biserial ~ Pearson com alvo binário)\n",
        "corr_with_y = X.apply(lambda c: np.corrcoef(c, y)[0,1])\n",
        "top10 = corr_with_y.abs().sort_values(ascending=False).head(10).sort_values()\n",
        "\n",
        "display(\n",
        "    top10.to_frame(\"abs(corr)\").style.set_caption(\"Top-10 features mais correlacionadas com o alvo\")\n",
        ")\n",
        "\n",
        "plt.figure(figsize=(6,4))\n",
        "top10.plot(kind=\"barh\")\n",
        "plt.title(\"Top-10 | |correlação| com alvo (M=1, B=0)\")\n",
        "plt.xlabel(\"|corr|\")\n",
        "plt.tight_layout()\n",
        "plt.show()\n"
      ],
      "metadata": {
        "colab": {
          "base_uri": "https://localhost:8080/",
          "height": 0
        },
        "id": "TKIyvXVSeGrf",
        "outputId": "8319d7e0-36f3-45de-ce68-7024b6406baf"
      },
      "execution_count": 26,
      "outputs": [
        {
          "output_type": "display_data",
          "data": {
            "text/plain": [
              "<pandas.io.formats.style.Styler at 0x7a91644a9d90>"
            ],
            "text/html": [
              "<style type=\"text/css\">\n",
              "</style>\n",
              "<table id=\"T_94757\" class=\"dataframe\">\n",
              "  <caption>Top-10 features mais correlacionadas com o alvo</caption>\n",
              "  <thead>\n",
              "    <tr>\n",
              "      <th class=\"blank level0\" >&nbsp;</th>\n",
              "      <th id=\"T_94757_level0_col0\" class=\"col_heading level0 col0\" >abs(corr)</th>\n",
              "    </tr>\n",
              "  </thead>\n",
              "  <tbody>\n",
              "    <tr>\n",
              "      <th id=\"T_94757_level0_row0\" class=\"row_heading level0 row0\" >feature_27</th>\n",
              "      <td id=\"T_94757_row0_col0\" class=\"data row0 col0\" >0.659610</td>\n",
              "    </tr>\n",
              "    <tr>\n",
              "      <th id=\"T_94757_level0_row1\" class=\"row_heading level0 row1\" >feature_7</th>\n",
              "      <td id=\"T_94757_row1_col0\" class=\"data row1 col0\" >0.696360</td>\n",
              "    </tr>\n",
              "    <tr>\n",
              "      <th id=\"T_94757_level0_row2\" class=\"row_heading level0 row2\" >feature_4</th>\n",
              "      <td id=\"T_94757_row2_col0\" class=\"data row2 col0\" >0.708984</td>\n",
              "    </tr>\n",
              "    <tr>\n",
              "      <th id=\"T_94757_level0_row3\" class=\"row_heading level0 row3\" >feature_1</th>\n",
              "      <td id=\"T_94757_row3_col0\" class=\"data row3 col0\" >0.730029</td>\n",
              "    </tr>\n",
              "    <tr>\n",
              "      <th id=\"T_94757_level0_row4\" class=\"row_heading level0 row4\" >feature_24</th>\n",
              "      <td id=\"T_94757_row4_col0\" class=\"data row4 col0\" >0.733825</td>\n",
              "    </tr>\n",
              "    <tr>\n",
              "      <th id=\"T_94757_level0_row5\" class=\"row_heading level0 row5\" >feature_3</th>\n",
              "      <td id=\"T_94757_row5_col0\" class=\"data row5 col0\" >0.742636</td>\n",
              "    </tr>\n",
              "    <tr>\n",
              "      <th id=\"T_94757_level0_row6\" class=\"row_heading level0 row6\" >feature_21</th>\n",
              "      <td id=\"T_94757_row6_col0\" class=\"data row6 col0\" >0.776454</td>\n",
              "    </tr>\n",
              "    <tr>\n",
              "      <th id=\"T_94757_level0_row7\" class=\"row_heading level0 row7\" >feature_8</th>\n",
              "      <td id=\"T_94757_row7_col0\" class=\"data row7 col0\" >0.776614</td>\n",
              "    </tr>\n",
              "    <tr>\n",
              "      <th id=\"T_94757_level0_row8\" class=\"row_heading level0 row8\" >feature_23</th>\n",
              "      <td id=\"T_94757_row8_col0\" class=\"data row8 col0\" >0.782914</td>\n",
              "    </tr>\n",
              "    <tr>\n",
              "      <th id=\"T_94757_level0_row9\" class=\"row_heading level0 row9\" >feature_28</th>\n",
              "      <td id=\"T_94757_row9_col0\" class=\"data row9 col0\" >0.793566</td>\n",
              "    </tr>\n",
              "  </tbody>\n",
              "</table>\n"
            ]
          },
          "metadata": {}
        },
        {
          "output_type": "display_data",
          "data": {
            "text/plain": [
              "<Figure size 600x400 with 1 Axes>"
            ],
            "image/png": "[encoded data removed]"
          },
          "metadata": {}
        }
      ]
    },
    {
      "cell_type": "markdown",
      "source": [
        "### 1.2.5 Exemplos de amostras\n",
        "\n",
        "Agora, é exibido algumas linhas do dataset com as colunas de identificação, diagnóstico e as primeiras cinco features numéricas. Essa visualização serve como amostra prática da estrutura dos dados que serão utilizados no treinamento do modelo."
      ],
      "metadata": {
        "id": "ZOZk1AAYfWeR"
      }
    },
    {
      "cell_type": "code",
      "source": [
        "# Amostras\n",
        "subset_cols = [\"ID\", \"Diagnosis\"] + [f\"feature_{i}\" for i in range(1, 6)]\n",
        "display(\n",
        "    df[subset_cols].head(8)\n",
        "        .style.set_caption(\"Exemplos de amostras (ID, alvo e 5 primeiras features)\")\n",
        ")\n"
      ],
      "metadata": {
        "colab": {
          "base_uri": "https://localhost:8080/",
          "height": 0
        },
        "id": "FLM3Oda6eKdp",
        "outputId": "0c87a7d3-7909-440d-84c7-b4f01cf376af"
      },
      "execution_count": 27,
      "outputs": [
        {
          "output_type": "display_data",
          "data": {
            "text/plain": [
              "<pandas.io.formats.style.Styler at 0x7a9164334f50>"
            ],
            "text/html": [
              "<style type=\"text/css\">\n",
              "</style>\n",
              "<table id=\"T_d05cf\" class=\"dataframe\">\n",
              "  <caption>Exemplos de amostras (ID, alvo e 5 primeiras features)</caption>\n",
              "  <thead>\n",
              "    <tr>\n",
              "      <th class=\"blank level0\" >&nbsp;</th>\n",
              "      <th id=\"T_d05cf_level0_col0\" class=\"col_heading level0 col0\" >ID</th>\n",
              "      <th id=\"T_d05cf_level0_col1\" class=\"col_heading level0 col1\" >Diagnosis</th>\n",
              "      <th id=\"T_d05cf_level0_col2\" class=\"col_heading level0 col2\" >feature_1</th>\n",
              "      <th id=\"T_d05cf_level0_col3\" class=\"col_heading level0 col3\" >feature_2</th>\n",
              "      <th id=\"T_d05cf_level0_col4\" class=\"col_heading level0 col4\" >feature_3</th>\n",
              "      <th id=\"T_d05cf_level0_col5\" class=\"col_heading level0 col5\" >feature_4</th>\n",
              "      <th id=\"T_d05cf_level0_col6\" class=\"col_heading level0 col6\" >feature_5</th>\n",
              "    </tr>\n",
              "  </thead>\n",
              "  <tbody>\n",
              "    <tr>\n",
              "      <th id=\"T_d05cf_level0_row0\" class=\"row_heading level0 row0\" >0</th>\n",
              "      <td id=\"T_d05cf_row0_col0\" class=\"data row0 col0\" >842302</td>\n",
              "      <td id=\"T_d05cf_row0_col1\" class=\"data row0 col1\" >M</td>\n",
              "      <td id=\"T_d05cf_row0_col2\" class=\"data row0 col2\" >17.990000</td>\n",
              "      <td id=\"T_d05cf_row0_col3\" class=\"data row0 col3\" >10.380000</td>\n",
              "      <td id=\"T_d05cf_row0_col4\" class=\"data row0 col4\" >122.800000</td>\n",
              "      <td id=\"T_d05cf_row0_col5\" class=\"data row0 col5\" >1001.000000</td>\n",
              "      <td id=\"T_d05cf_row0_col6\" class=\"data row0 col6\" >0.118400</td>\n",
              "    </tr>\n",
              "    <tr>\n",
              "      <th id=\"T_d05cf_level0_row1\" class=\"row_heading level0 row1\" >1</th>\n",
              "      <td id=\"T_d05cf_row1_col0\" class=\"data row1 col0\" >842517</td>\n",
              "      <td id=\"T_d05cf_row1_col1\" class=\"data row1 col1\" >M</td>\n",
              "      <td id=\"T_d05cf_row1_col2\" class=\"data row1 col2\" >20.570000</td>\n",
              "      <td id=\"T_d05cf_row1_col3\" class=\"data row1 col3\" >17.770000</td>\n",
              "      <td id=\"T_d05cf_row1_col4\" class=\"data row1 col4\" >132.900000</td>\n",
              "      <td id=\"T_d05cf_row1_col5\" class=\"data row1 col5\" >1326.000000</td>\n",
              "      <td id=\"T_d05cf_row1_col6\" class=\"data row1 col6\" >0.084740</td>\n",
              "    </tr>\n",
              "    <tr>\n",
              "      <th id=\"T_d05cf_level0_row2\" class=\"row_heading level0 row2\" >2</th>\n",
              "      <td id=\"T_d05cf_row2_col0\" class=\"data row2 col0\" >84300903</td>\n",
              "      <td id=\"T_d05cf_row2_col1\" class=\"data row2 col1\" >M</td>\n",
              "      <td id=\"T_d05cf_row2_col2\" class=\"data row2 col2\" >19.690000</td>\n",
              "      <td id=\"T_d05cf_row2_col3\" class=\"data row2 col3\" >21.250000</td>\n",
              "      <td id=\"T_d05cf_row2_col4\" class=\"data row2 col4\" >130.000000</td>\n",
              "      <td id=\"T_d05cf_row2_col5\" class=\"data row2 col5\" >1203.000000</td>\n",
              "      <td id=\"T_d05cf_row2_col6\" class=\"data row2 col6\" >0.109600</td>\n",
              "    </tr>\n",
              "    <tr>\n",
              "      <th id=\"T_d05cf_level0_row3\" class=\"row_heading level0 row3\" >3</th>\n",
              "      <td id=\"T_d05cf_row3_col0\" class=\"data row3 col0\" >84348301</td>\n",
              "      <td id=\"T_d05cf_row3_col1\" class=\"data row3 col1\" >M</td>\n",
              "      <td id=\"T_d05cf_row3_col2\" class=\"data row3 col2\" >11.420000</td>\n",
              "      <td id=\"T_d05cf_row3_col3\" class=\"data row3 col3\" >20.380000</td>\n",
              "      <td id=\"T_d05cf_row3_col4\" class=\"data row3 col4\" >77.580000</td>\n",
              "      <td id=\"T_d05cf_row3_col5\" class=\"data row3 col5\" >386.100000</td>\n",
              "      <td id=\"T_d05cf_row3_col6\" class=\"data row3 col6\" >0.142500</td>\n",
              "    </tr>\n",
              "    <tr>\n",
              "      <th id=\"T_d05cf_level0_row4\" class=\"row_heading level0 row4\" >4</th>\n",
              "      <td id=\"T_d05cf_row4_col0\" class=\"data row4 col0\" >84358402</td>\n",
              "      <td id=\"T_d05cf_row4_col1\" class=\"data row4 col1\" >M</td>\n",
              "      <td id=\"T_d05cf_row4_col2\" class=\"data row4 col2\" >20.290000</td>\n",
              "      <td id=\"T_d05cf_row4_col3\" class=\"data row4 col3\" >14.340000</td>\n",
              "      <td id=\"T_d05cf_row4_col4\" class=\"data row4 col4\" >135.100000</td>\n",
              "      <td id=\"T_d05cf_row4_col5\" class=\"data row4 col5\" >1297.000000</td>\n",
              "      <td id=\"T_d05cf_row4_col6\" class=\"data row4 col6\" >0.100300</td>\n",
              "    </tr>\n",
              "    <tr>\n",
              "      <th id=\"T_d05cf_level0_row5\" class=\"row_heading level0 row5\" >5</th>\n",
              "      <td id=\"T_d05cf_row5_col0\" class=\"data row5 col0\" >843786</td>\n",
              "      <td id=\"T_d05cf_row5_col1\" class=\"data row5 col1\" >M</td>\n",
              "      <td id=\"T_d05cf_row5_col2\" class=\"data row5 col2\" >12.450000</td>\n",
              "      <td id=\"T_d05cf_row5_col3\" class=\"data row5 col3\" >15.700000</td>\n",
              "      <td id=\"T_d05cf_row5_col4\" class=\"data row5 col4\" >82.570000</td>\n",
              "      <td id=\"T_d05cf_row5_col5\" class=\"data row5 col5\" >477.100000</td>\n",
              "      <td id=\"T_d05cf_row5_col6\" class=\"data row5 col6\" >0.127800</td>\n",
              "    </tr>\n",
              "    <tr>\n",
              "      <th id=\"T_d05cf_level0_row6\" class=\"row_heading level0 row6\" >6</th>\n",
              "      <td id=\"T_d05cf_row6_col0\" class=\"data row6 col0\" >844359</td>\n",
              "      <td id=\"T_d05cf_row6_col1\" class=\"data row6 col1\" >M</td>\n",
              "      <td id=\"T_d05cf_row6_col2\" class=\"data row6 col2\" >18.250000</td>\n",
              "      <td id=\"T_d05cf_row6_col3\" class=\"data row6 col3\" >19.980000</td>\n",
              "      <td id=\"T_d05cf_row6_col4\" class=\"data row6 col4\" >119.600000</td>\n",
              "      <td id=\"T_d05cf_row6_col5\" class=\"data row6 col5\" >1040.000000</td>\n",
              "      <td id=\"T_d05cf_row6_col6\" class=\"data row6 col6\" >0.094630</td>\n",
              "    </tr>\n",
              "    <tr>\n",
              "      <th id=\"T_d05cf_level0_row7\" class=\"row_heading level0 row7\" >7</th>\n",
              "      <td id=\"T_d05cf_row7_col0\" class=\"data row7 col0\" >84458202</td>\n",
              "      <td id=\"T_d05cf_row7_col1\" class=\"data row7 col1\" >M</td>\n",
              "      <td id=\"T_d05cf_row7_col2\" class=\"data row7 col2\" >13.710000</td>\n",
              "      <td id=\"T_d05cf_row7_col3\" class=\"data row7 col3\" >20.830000</td>\n",
              "      <td id=\"T_d05cf_row7_col4\" class=\"data row7 col4\" >90.200000</td>\n",
              "      <td id=\"T_d05cf_row7_col5\" class=\"data row7 col5\" >577.900000</td>\n",
              "      <td id=\"T_d05cf_row7_col6\" class=\"data row7 col6\" >0.118900</td>\n",
              "    </tr>\n",
              "  </tbody>\n",
              "</table>\n"
            ]
          },
          "metadata": {}
        }
      ]
    },
    {
      "cell_type": "markdown",
      "source": [
        "## 1.3 Modelo Sequencial em Keras"
      ],
      "metadata": {
        "id": "5wYZSGKRgtWl"
      }
    },
    {
      "cell_type": "markdown",
      "source": [
        "### 1.3.1 Preparação dos dados"
      ],
      "metadata": {
        "id": "uEWbaOUbhQea"
      }
    },
    {
      "cell_type": "code",
      "source": [
        "# Lê o WDBC\n",
        "col_names = [\"ID\", \"Diagnosis\"] + [f\"feature_{i}\" for i in range(1, 31)]\n",
        "df = pd.read_csv(\"wdbc.data\", header=None, names=col_names)\n",
        "\n",
        "# Alvo binário: M=1 (maligno), B=0 (benigno)\n",
        "y = (df[\"Diagnosis\"] == \"M\").astype(int).values\n",
        "\n",
        "# Features (remove ID e Diagnosis)\n",
        "X = df.drop(columns=[\"ID\", \"Diagnosis\"]).values\n",
        "\n",
        "# Split\n",
        "X_train, X_test, y_train, y_test = train_test_split(\n",
        "    X, y, test_size=0.2, random_state=42, stratify=y\n",
        ")\n",
        "\n",
        "# Normalização\n",
        "scaler = StandardScaler()\n",
        "X_train = scaler.fit_transform(X_train)\n",
        "X_test  = scaler.transform(X_test)\n",
        "\n",
        "X_train.shape, X_test.shape\n"
      ],
      "metadata": {
        "id": "513m0pSbeSQZ",
        "colab": {
          "base_uri": "https://localhost:8080/"
        },
        "outputId": "4f83100b-90a2-48b6-88ed-574e624dd9a4"
      },
      "execution_count": 28,
      "outputs": [
        {
          "output_type": "execute_result",
          "data": {
            "text/plain": [
              "((455, 30), (114, 30))"
            ]
          },
          "metadata": {},
          "execution_count": 28
        }
      ]
    },
    {
      "cell_type": "markdown",
      "source": [
        "### 1.3.2 Modelo sequencial com 1 Dense + sigmoid e métrica F1 custom"
      ],
      "metadata": {
        "id": "jOoPPngghVc6"
      }
    },
    {
      "cell_type": "code",
      "source": [
        "@tf.function\n",
        "def f1_metric(y_true, y_pred):\n",
        "    # Garantir formas e tipos compatíveis\n",
        "    y_true = tf.cast(K.flatten(y_true), tf.float32)\n",
        "    y_pred = tf.cast(K.flatten(y_pred), tf.float32)\n",
        "\n",
        "    # Binariza previsões (threshold 0.5)\n",
        "    y_pred_bin = tf.cast(y_pred >= 0.5, tf.float32)\n",
        "\n",
        "    tp = tf.reduce_sum(y_true * y_pred_bin)\n",
        "    fp = tf.reduce_sum((1.0 - y_true) * y_pred_bin)\n",
        "    fn = tf.reduce_sum(y_true * (1.0 - y_pred_bin))\n",
        "\n",
        "    precision = tp / (tp + fp + K.epsilon())\n",
        "    recall    = tp / (tp + fn + K.epsilon())\n",
        "    f1 = 2.0 * precision * recall / (precision + recall + K.epsilon())\n",
        "    return f1\n",
        "\n",
        "# Modelo: uma única camada densa com 1 unidade (sigmoid)\n",
        "model = Sequential([\n",
        "    Dense(1, activation=\"sigmoid\", input_shape=(X_train.shape[1],))\n",
        "])\n",
        "\n",
        "# Compilação conforme pedido\n",
        "model.compile(\n",
        "    optimizer=Adam(),                    # otimizador\n",
        "    loss=\"binary_crossentropy\",          # função de perda\n",
        "    metrics=[\"accuracy\", f1_metric]      # métricas: acurácia e F1\n",
        ")\n",
        "\n",
        "model.summary()\n"
      ],
      "metadata": {
        "colab": {
          "base_uri": "https://localhost:8080/",
          "height": 161
        },
        "id": "MmVNqM6MhV9e",
        "outputId": "b32e010e-b927-4621-ce3d-f6464a36d2e0"
      },
      "execution_count": 31,
      "outputs": [
        {
          "output_type": "display_data",
          "data": {
            "text/plain": [
              "\u001b[1mModel: \"sequential_3\"\u001b[0m\n"
            ],
            "text/html": [
              "<pre style=\"white-space:pre;overflow-x:auto;line-height:normal;font-family:Menlo,'DejaVu Sans Mono',consolas,'Courier New',monospace\"><span style=\"font-weight: bold\">Model: \"sequential_3\"</span>\n",
              "</pre>\n"
            ]
          },
          "metadata": {}
        },
        {
          "output_type": "display_data",
          "data": {
            "text/plain": [
              "┏━━━━━━━━━━━━━━━━━━━━━━━━━━━━━━━━━┳━━━━━━━━━━━━━━━━━━━━━━━━┳━━━━━━━━━━━━━━━┓\n",
              "┃\u001b[1m \u001b[0m\u001b[1mLayer (type)                   \u001b[0m\u001b[1m \u001b[0m┃\u001b[1m \u001b[0m\u001b[1mOutput Shape          \u001b[0m\u001b[1m \u001b[0m┃\u001b[1m \u001b[0m\u001b[1m      Param #\u001b[0m\u001b[1m \u001b[0m┃\n",
              "┡━━━━━━━━━━━━━━━━━━━━━━━━━━━━━━━━━╇━━━━━━━━━━━━━━━━━━━━━━━━╇━━━━━━━━━━━━━━━┩\n",
              "│ dense_3 (\u001b[38;5;33mDense\u001b[0m)                 │ (\u001b[38;5;45mNone\u001b[0m, \u001b[38;5;34m1\u001b[0m)              │            \u001b[38;5;34m31\u001b[0m │\n",
              "└─────────────────────────────────┴────────────────────────┴───────────────┘\n"
            ],
            "text/html": [
              "<pre style=\"white-space:pre;overflow-x:auto;line-height:normal;font-family:Menlo,'DejaVu Sans Mono',consolas,'Courier New',monospace\">┏━━━━━━━━━━━━━━━━━━━━━━━━━━━━━━━━━┳━━━━━━━━━━━━━━━━━━━━━━━━┳━━━━━━━━━━━━━━━┓\n",
              "┃<span style=\"font-weight: bold\"> Layer (type)                    </span>┃<span style=\"font-weight: bold\"> Output Shape           </span>┃<span style=\"font-weight: bold\">       Param # </span>┃\n",
              "┡━━━━━━━━━━━━━━━━━━━━━━━━━━━━━━━━━╇━━━━━━━━━━━━━━━━━━━━━━━━╇━━━━━━━━━━━━━━━┩\n",
              "│ dense_3 (<span style=\"color: #0087ff; text-decoration-color: #0087ff\">Dense</span>)                 │ (<span style=\"color: #00d7ff; text-decoration-color: #00d7ff\">None</span>, <span style=\"color: #00af00; text-decoration-color: #00af00\">1</span>)              │            <span style=\"color: #00af00; text-decoration-color: #00af00\">31</span> │\n",
              "└─────────────────────────────────┴────────────────────────┴───────────────┘\n",
              "</pre>\n"
            ]
          },
          "metadata": {}
        },
        {
          "output_type": "display_data",
          "data": {
            "text/plain": [
              "\u001b[1m Total params: \u001b[0m\u001b[38;5;34m31\u001b[0m (124.00 B)\n"
            ],
            "text/html": [
              "<pre style=\"white-space:pre;overflow-x:auto;line-height:normal;font-family:Menlo,'DejaVu Sans Mono',consolas,'Courier New',monospace\"><span style=\"font-weight: bold\"> Total params: </span><span style=\"color: #00af00; text-decoration-color: #00af00\">31</span> (124.00 B)\n",
              "</pre>\n"
            ]
          },
          "metadata": {}
        },
        {
          "output_type": "display_data",
          "data": {
            "text/plain": [
              "\u001b[1m Trainable params: \u001b[0m\u001b[38;5;34m31\u001b[0m (124.00 B)\n"
            ],
            "text/html": [
              "<pre style=\"white-space:pre;overflow-x:auto;line-height:normal;font-family:Menlo,'DejaVu Sans Mono',consolas,'Courier New',monospace\"><span style=\"font-weight: bold\"> Trainable params: </span><span style=\"color: #00af00; text-decoration-color: #00af00\">31</span> (124.00 B)\n",
              "</pre>\n"
            ]
          },
          "metadata": {}
        },
        {
          "output_type": "display_data",
          "data": {
            "text/plain": [
              "\u001b[1m Non-trainable params: \u001b[0m\u001b[38;5;34m0\u001b[0m (0.00 B)\n"
            ],
            "text/html": [
              "<pre style=\"white-space:pre;overflow-x:auto;line-height:normal;font-family:Menlo,'DejaVu Sans Mono',consolas,'Courier New',monospace\"><span style=\"font-weight: bold\"> Non-trainable params: </span><span style=\"color: #00af00; text-decoration-color: #00af00\">0</span> (0.00 B)\n",
              "</pre>\n"
            ]
          },
          "metadata": {}
        }
      ]
    },
    {
      "cell_type": "markdown",
      "source": [
        "## 1.4 Treinar agora 50 épocas, batch_size=10"
      ],
      "metadata": {
        "id": "XB8Xv83WhtPW"
      }
    },
    {
      "cell_type": "code",
      "source": [
        "model.compile(\n",
        "    optimizer=Adam(),\n",
        "    loss=\"binary_crossentropy\",\n",
        "    metrics=[\"accuracy\", f1_metric]\n",
        ")\n",
        "\n",
        "history = model.fit(\n",
        "    X_train, y_train,\n",
        "    epochs=50,\n",
        "    batch_size=10,\n",
        "    validation_split=0.2,\n",
        "    verbose=1\n",
        ")\n"
      ],
      "metadata": {
        "colab": {
          "base_uri": "https://localhost:8080/"
        },
        "id": "OzRaMMPKhd8w",
        "outputId": "12525111-400f-481d-b49b-79120ea4ca92"
      },
      "execution_count": 32,
      "outputs": [
        {
          "output_type": "stream",
          "name": "stdout",
          "text": [
            "Epoch 1/50\n",
            "\u001b[1m37/37\u001b[0m \u001b[32m━━━━━━━━━━━━━━━━━━━━\u001b[0m\u001b[37m\u001b[0m \u001b[1m1s\u001b[0m 10ms/step - accuracy: 0.7713 - f1_metric: 0.6845 - loss: 0.5560 - val_accuracy: 0.8242 - val_f1_metric: 0.7457 - val_loss: 0.4783\n",
            "Epoch 2/50\n",
            "\u001b[1m37/37\u001b[0m \u001b[32m━━━━━━━━━━━━━━━━━━━━\u001b[0m\u001b[37m\u001b[0m \u001b[1m0s\u001b[0m 4ms/step - accuracy: 0.8833 - f1_metric: 0.8179 - loss: 0.4153 - val_accuracy: 0.8462 - val_f1_metric: 0.7631 - val_loss: 0.4113\n",
            "Epoch 3/50\n",
            "\u001b[1m37/37\u001b[0m \u001b[32m━━━━━━━━━━━━━━━━━━━━\u001b[0m\u001b[37m\u001b[0m \u001b[1m0s\u001b[0m 5ms/step - accuracy: 0.8870 - f1_metric: 0.8444 - loss: 0.3730 - val_accuracy: 0.8791 - val_f1_metric: 0.8398 - val_loss: 0.3655\n",
            "Epoch 4/50\n",
            "\u001b[1m37/37\u001b[0m \u001b[32m━━━━━━━━━━━━━━━━━━━━\u001b[0m\u001b[37m\u001b[0m \u001b[1m0s\u001b[0m 4ms/step - accuracy: 0.9115 - f1_metric: 0.8059 - loss: 0.3139 - val_accuracy: 0.9121 - val_f1_metric: 0.8973 - val_loss: 0.3300\n",
            "Epoch 5/50\n",
            "\u001b[1m37/37\u001b[0m \u001b[32m━━━━━━━━━━━━━━━━━━━━\u001b[0m\u001b[37m\u001b[0m \u001b[1m0s\u001b[0m 4ms/step - accuracy: 0.8949 - f1_metric: 0.8585 - loss: 0.3324 - val_accuracy: 0.9231 - val_f1_metric: 0.9082 - val_loss: 0.3028\n",
            "Epoch 6/50\n",
            "\u001b[1m37/37\u001b[0m \u001b[32m━━━━━━━━━━━━━━━━━━━━\u001b[0m\u001b[37m\u001b[0m \u001b[1m0s\u001b[0m 5ms/step - accuracy: 0.9227 - f1_metric: 0.8719 - loss: 0.2933 - val_accuracy: 0.9231 - val_f1_metric: 0.9082 - val_loss: 0.2820\n",
            "Epoch 7/50\n",
            "\u001b[1m37/37\u001b[0m \u001b[32m━━━━━━━━━━━━━━━━━━━━\u001b[0m\u001b[37m\u001b[0m \u001b[1m0s\u001b[0m 5ms/step - accuracy: 0.8898 - f1_metric: 0.7941 - loss: 0.2920 - val_accuracy: 0.9231 - val_f1_metric: 0.9082 - val_loss: 0.2638\n",
            "Epoch 8/50\n",
            "\u001b[1m37/37\u001b[0m \u001b[32m━━━━━━━━━━━━━━━━━━━━\u001b[0m\u001b[37m\u001b[0m \u001b[1m0s\u001b[0m 4ms/step - accuracy: 0.9209 - f1_metric: 0.9002 - loss: 0.2405 - val_accuracy: 0.9231 - val_f1_metric: 0.9082 - val_loss: 0.2483\n",
            "Epoch 9/50\n",
            "\u001b[1m37/37\u001b[0m \u001b[32m━━━━━━━━━━━━━━━━━━━━\u001b[0m\u001b[37m\u001b[0m \u001b[1m0s\u001b[0m 4ms/step - accuracy: 0.9009 - f1_metric: 0.8593 - loss: 0.2438 - val_accuracy: 0.9231 - val_f1_metric: 0.9082 - val_loss: 0.2351\n",
            "Epoch 10/50\n",
            "\u001b[1m37/37\u001b[0m \u001b[32m━━━━━━━━━━━━━━━━━━━━\u001b[0m\u001b[37m\u001b[0m \u001b[1m0s\u001b[0m 4ms/step - accuracy: 0.9245 - f1_metric: 0.8950 - loss: 0.2052 - val_accuracy: 0.9231 - val_f1_metric: 0.9082 - val_loss: 0.2234\n",
            "Epoch 11/50\n",
            "\u001b[1m37/37\u001b[0m \u001b[32m━━━━━━━━━━━━━━━━━━━━\u001b[0m\u001b[37m\u001b[0m \u001b[1m0s\u001b[0m 5ms/step - accuracy: 0.9388 - f1_metric: 0.9162 - loss: 0.2039 - val_accuracy: 0.9231 - val_f1_metric: 0.9082 - val_loss: 0.2139\n",
            "Epoch 12/50\n",
            "\u001b[1m37/37\u001b[0m \u001b[32m━━━━━━━━━━━━━━━━━━━━\u001b[0m\u001b[37m\u001b[0m \u001b[1m0s\u001b[0m 4ms/step - accuracy: 0.9342 - f1_metric: 0.8996 - loss: 0.1935 - val_accuracy: 0.9231 - val_f1_metric: 0.9082 - val_loss: 0.2053\n",
            "Epoch 13/50\n",
            "\u001b[1m37/37\u001b[0m \u001b[32m━━━━━━━━━━━━━━━━━━━━\u001b[0m\u001b[37m\u001b[0m \u001b[1m0s\u001b[0m 4ms/step - accuracy: 0.9232 - f1_metric: 0.8835 - loss: 0.1805 - val_accuracy: 0.9231 - val_f1_metric: 0.9082 - val_loss: 0.1973\n",
            "Epoch 14/50\n",
            "\u001b[1m37/37\u001b[0m \u001b[32m━━━━━━━━━━━━━━━━━━━━\u001b[0m\u001b[37m\u001b[0m \u001b[1m0s\u001b[0m 4ms/step - accuracy: 0.9465 - f1_metric: 0.9326 - loss: 0.1644 - val_accuracy: 0.9231 - val_f1_metric: 0.9082 - val_loss: 0.1903\n",
            "Epoch 15/50\n",
            "\u001b[1m37/37\u001b[0m \u001b[32m━━━━━━━━━━━━━━━━━━━━\u001b[0m\u001b[37m\u001b[0m \u001b[1m0s\u001b[0m 4ms/step - accuracy: 0.9386 - f1_metric: 0.9108 - loss: 0.1724 - val_accuracy: 0.9341 - val_f1_metric: 0.9225 - val_loss: 0.1837\n",
            "Epoch 16/50\n",
            "\u001b[1m37/37\u001b[0m \u001b[32m━━━━━━━━━━━━━━━━━━━━\u001b[0m\u001b[37m\u001b[0m \u001b[1m0s\u001b[0m 4ms/step - accuracy: 0.9343 - f1_metric: 0.8913 - loss: 0.1819 - val_accuracy: 0.9451 - val_f1_metric: 0.9316 - val_loss: 0.1782\n",
            "Epoch 17/50\n",
            "\u001b[1m37/37\u001b[0m \u001b[32m━━━━━━━━━━━━━━━━━━━━\u001b[0m\u001b[37m\u001b[0m \u001b[1m0s\u001b[0m 4ms/step - accuracy: 0.9599 - f1_metric: 0.9385 - loss: 0.1493 - val_accuracy: 0.9451 - val_f1_metric: 0.9316 - val_loss: 0.1734\n",
            "Epoch 18/50\n",
            "\u001b[1m37/37\u001b[0m \u001b[32m━━━━━━━━━━━━━━━━━━━━\u001b[0m\u001b[37m\u001b[0m \u001b[1m0s\u001b[0m 4ms/step - accuracy: 0.9522 - f1_metric: 0.9353 - loss: 0.1357 - val_accuracy: 0.9451 - val_f1_metric: 0.9316 - val_loss: 0.1682\n",
            "Epoch 19/50\n",
            "\u001b[1m37/37\u001b[0m \u001b[32m━━━━━━━━━━━━━━━━━━━━\u001b[0m\u001b[37m\u001b[0m \u001b[1m0s\u001b[0m 4ms/step - accuracy: 0.9420 - f1_metric: 0.9167 - loss: 0.1411 - val_accuracy: 0.9451 - val_f1_metric: 0.9316 - val_loss: 0.1640\n",
            "Epoch 20/50\n",
            "\u001b[1m37/37\u001b[0m \u001b[32m━━━━━━━━━━━━━━━━━━━━\u001b[0m\u001b[37m\u001b[0m \u001b[1m0s\u001b[0m 4ms/step - accuracy: 0.9619 - f1_metric: 0.9354 - loss: 0.1232 - val_accuracy: 0.9451 - val_f1_metric: 0.9316 - val_loss: 0.1600\n",
            "Epoch 21/50\n",
            "\u001b[1m37/37\u001b[0m \u001b[32m━━━━━━━━━━━━━━━━━━━━\u001b[0m\u001b[37m\u001b[0m \u001b[1m0s\u001b[0m 4ms/step - accuracy: 0.9569 - f1_metric: 0.9098 - loss: 0.1304 - val_accuracy: 0.9451 - val_f1_metric: 0.9316 - val_loss: 0.1566\n",
            "Epoch 22/50\n",
            "\u001b[1m37/37\u001b[0m \u001b[32m━━━━━━━━━━━━━━━━━━━━\u001b[0m\u001b[37m\u001b[0m \u001b[1m0s\u001b[0m 4ms/step - accuracy: 0.9683 - f1_metric: 0.9608 - loss: 0.1163 - val_accuracy: 0.9451 - val_f1_metric: 0.9316 - val_loss: 0.1530\n",
            "Epoch 23/50\n",
            "\u001b[1m37/37\u001b[0m \u001b[32m━━━━━━━━━━━━━━━━━━━━\u001b[0m\u001b[37m\u001b[0m \u001b[1m0s\u001b[0m 4ms/step - accuracy: 0.9621 - f1_metric: 0.9489 - loss: 0.1186 - val_accuracy: 0.9451 - val_f1_metric: 0.9316 - val_loss: 0.1500\n",
            "Epoch 24/50\n",
            "\u001b[1m37/37\u001b[0m \u001b[32m━━━━━━━━━━━━━━━━━━━━\u001b[0m\u001b[37m\u001b[0m \u001b[1m0s\u001b[0m 7ms/step - accuracy: 0.9507 - f1_metric: 0.9313 - loss: 0.1182 - val_accuracy: 0.9451 - val_f1_metric: 0.9316 - val_loss: 0.1473\n",
            "Epoch 25/50\n",
            "\u001b[1m37/37\u001b[0m \u001b[32m━━━━━━━━━━━━━━━━━━━━\u001b[0m\u001b[37m\u001b[0m \u001b[1m0s\u001b[0m 6ms/step - accuracy: 0.9706 - f1_metric: 0.9641 - loss: 0.0921 - val_accuracy: 0.9451 - val_f1_metric: 0.9316 - val_loss: 0.1446\n",
            "Epoch 26/50\n",
            "\u001b[1m37/37\u001b[0m \u001b[32m━━━━━━━━━━━━━━━━━━━━\u001b[0m\u001b[37m\u001b[0m \u001b[1m0s\u001b[0m 7ms/step - accuracy: 0.9471 - f1_metric: 0.8981 - loss: 0.1235 - val_accuracy: 0.9451 - val_f1_metric: 0.9316 - val_loss: 0.1423\n",
            "Epoch 27/50\n",
            "\u001b[1m37/37\u001b[0m \u001b[32m━━━━━━━━━━━━━━━━━━━━\u001b[0m\u001b[37m\u001b[0m \u001b[1m0s\u001b[0m 6ms/step - accuracy: 0.9703 - f1_metric: 0.9596 - loss: 0.1027 - val_accuracy: 0.9451 - val_f1_metric: 0.9316 - val_loss: 0.1402\n",
            "Epoch 28/50\n",
            "\u001b[1m37/37\u001b[0m \u001b[32m━━━━━━━━━━━━━━━━━━━━\u001b[0m\u001b[37m\u001b[0m \u001b[1m0s\u001b[0m 6ms/step - accuracy: 0.9583 - f1_metric: 0.9221 - loss: 0.1124 - val_accuracy: 0.9560 - val_f1_metric: 0.9455 - val_loss: 0.1380\n",
            "Epoch 29/50\n",
            "\u001b[1m37/37\u001b[0m \u001b[32m━━━━━━━━━━━━━━━━━━━━\u001b[0m\u001b[37m\u001b[0m \u001b[1m0s\u001b[0m 8ms/step - accuracy: 0.9507 - f1_metric: 0.9176 - loss: 0.1215 - val_accuracy: 0.9560 - val_f1_metric: 0.9455 - val_loss: 0.1361\n",
            "Epoch 30/50\n",
            "\u001b[1m37/37\u001b[0m \u001b[32m━━━━━━━━━━━━━━━━━━━━\u001b[0m\u001b[37m\u001b[0m \u001b[1m1s\u001b[0m 5ms/step - accuracy: 0.9666 - f1_metric: 0.9256 - loss: 0.1064 - val_accuracy: 0.9780 - val_f1_metric: 0.9798 - val_loss: 0.1341\n",
            "Epoch 31/50\n",
            "\u001b[1m37/37\u001b[0m \u001b[32m━━━━━━━━━━━━━━━━━━━━\u001b[0m\u001b[37m\u001b[0m \u001b[1m0s\u001b[0m 5ms/step - accuracy: 0.9662 - f1_metric: 0.9558 - loss: 0.1071 - val_accuracy: 0.9780 - val_f1_metric: 0.9798 - val_loss: 0.1324\n",
            "Epoch 32/50\n",
            "\u001b[1m37/37\u001b[0m \u001b[32m━━━━━━━━━━━━━━━━━━━━\u001b[0m\u001b[37m\u001b[0m \u001b[1m0s\u001b[0m 4ms/step - accuracy: 0.9565 - f1_metric: 0.9289 - loss: 0.1184 - val_accuracy: 0.9780 - val_f1_metric: 0.9798 - val_loss: 0.1308\n",
            "Epoch 33/50\n",
            "\u001b[1m37/37\u001b[0m \u001b[32m━━━━━━━━━━━━━━━━━━━━\u001b[0m\u001b[37m\u001b[0m \u001b[1m0s\u001b[0m 4ms/step - accuracy: 0.9838 - f1_metric: 0.9668 - loss: 0.0851 - val_accuracy: 0.9780 - val_f1_metric: 0.9798 - val_loss: 0.1292\n",
            "Epoch 34/50\n",
            "\u001b[1m37/37\u001b[0m \u001b[32m━━━━━━━━━━━━━━━━━━━━\u001b[0m\u001b[37m\u001b[0m \u001b[1m0s\u001b[0m 4ms/step - accuracy: 0.9706 - f1_metric: 0.9588 - loss: 0.0847 - val_accuracy: 0.9780 - val_f1_metric: 0.9798 - val_loss: 0.1277\n",
            "Epoch 35/50\n",
            "\u001b[1m37/37\u001b[0m \u001b[32m━━━━━━━━━━━━━━━━━━━━\u001b[0m\u001b[37m\u001b[0m \u001b[1m0s\u001b[0m 5ms/step - accuracy: 0.9700 - f1_metric: 0.9496 - loss: 0.1000 - val_accuracy: 0.9780 - val_f1_metric: 0.9798 - val_loss: 0.1263\n",
            "Epoch 36/50\n",
            "\u001b[1m37/37\u001b[0m \u001b[32m━━━━━━━━━━━━━━━━━━━━\u001b[0m\u001b[37m\u001b[0m \u001b[1m0s\u001b[0m 4ms/step - accuracy: 0.9599 - f1_metric: 0.9463 - loss: 0.1178 - val_accuracy: 0.9780 - val_f1_metric: 0.9798 - val_loss: 0.1252\n",
            "Epoch 37/50\n",
            "\u001b[1m37/37\u001b[0m \u001b[32m━━━━━━━━━━━━━━━━━━━━\u001b[0m\u001b[37m\u001b[0m \u001b[1m0s\u001b[0m 5ms/step - accuracy: 0.9794 - f1_metric: 0.9721 - loss: 0.0843 - val_accuracy: 0.9780 - val_f1_metric: 0.9798 - val_loss: 0.1240\n",
            "Epoch 38/50\n",
            "\u001b[1m37/37\u001b[0m \u001b[32m━━━━━━━━━━━━━━━━━━━━\u001b[0m\u001b[37m\u001b[0m \u001b[1m0s\u001b[0m 4ms/step - accuracy: 0.9816 - f1_metric: 0.9791 - loss: 0.0822 - val_accuracy: 0.9780 - val_f1_metric: 0.9798 - val_loss: 0.1227\n",
            "Epoch 39/50\n",
            "\u001b[1m37/37\u001b[0m \u001b[32m━━━━━━━━━━━━━━━━━━━━\u001b[0m\u001b[37m\u001b[0m \u001b[1m0s\u001b[0m 4ms/step - accuracy: 0.9741 - f1_metric: 0.9542 - loss: 0.0977 - val_accuracy: 0.9780 - val_f1_metric: 0.9798 - val_loss: 0.1215\n",
            "Epoch 40/50\n",
            "\u001b[1m37/37\u001b[0m \u001b[32m━━━━━━━━━━━━━━━━━━━━\u001b[0m\u001b[37m\u001b[0m \u001b[1m0s\u001b[0m 5ms/step - accuracy: 0.9624 - f1_metric: 0.9350 - loss: 0.1075 - val_accuracy: 0.9780 - val_f1_metric: 0.9798 - val_loss: 0.1205\n",
            "Epoch 41/50\n",
            "\u001b[1m37/37\u001b[0m \u001b[32m━━━━━━━━━━━━━━━━━━━━\u001b[0m\u001b[37m\u001b[0m \u001b[1m0s\u001b[0m 4ms/step - accuracy: 0.9818 - f1_metric: 0.9724 - loss: 0.0819 - val_accuracy: 0.9670 - val_f1_metric: 0.9465 - val_loss: 0.1195\n",
            "Epoch 42/50\n",
            "\u001b[1m37/37\u001b[0m \u001b[32m━━━━━━━━━━━━━━━━━━━━\u001b[0m\u001b[37m\u001b[0m \u001b[1m0s\u001b[0m 4ms/step - accuracy: 0.9806 - f1_metric: 0.9746 - loss: 0.0759 - val_accuracy: 0.9670 - val_f1_metric: 0.9465 - val_loss: 0.1186\n",
            "Epoch 43/50\n",
            "\u001b[1m37/37\u001b[0m \u001b[32m━━━━━━━━━━━━━━━━━━━━\u001b[0m\u001b[37m\u001b[0m \u001b[1m0s\u001b[0m 4ms/step - accuracy: 0.9744 - f1_metric: 0.9555 - loss: 0.0758 - val_accuracy: 0.9670 - val_f1_metric: 0.9465 - val_loss: 0.1176\n",
            "Epoch 44/50\n",
            "\u001b[1m37/37\u001b[0m \u001b[32m━━━━━━━━━━━━━━━━━━━━\u001b[0m\u001b[37m\u001b[0m \u001b[1m0s\u001b[0m 4ms/step - accuracy: 0.9829 - f1_metric: 0.9784 - loss: 0.0749 - val_accuracy: 0.9670 - val_f1_metric: 0.9465 - val_loss: 0.1167\n",
            "Epoch 45/50\n",
            "\u001b[1m37/37\u001b[0m \u001b[32m━━━━━━━━━━━━━━━━━━━━\u001b[0m\u001b[37m\u001b[0m \u001b[1m0s\u001b[0m 4ms/step - accuracy: 0.9551 - f1_metric: 0.9127 - loss: 0.1215 - val_accuracy: 0.9670 - val_f1_metric: 0.9465 - val_loss: 0.1159\n",
            "Epoch 46/50\n",
            "\u001b[1m37/37\u001b[0m \u001b[32m━━━━━━━━━━━━━━━━━━━━\u001b[0m\u001b[37m\u001b[0m \u001b[1m0s\u001b[0m 4ms/step - accuracy: 0.9719 - f1_metric: 0.9653 - loss: 0.0714 - val_accuracy: 0.9670 - val_f1_metric: 0.9465 - val_loss: 0.1151\n",
            "Epoch 47/50\n",
            "\u001b[1m37/37\u001b[0m \u001b[32m━━━━━━━━━━━━━━━━━━━━\u001b[0m\u001b[37m\u001b[0m \u001b[1m0s\u001b[0m 5ms/step - accuracy: 0.9757 - f1_metric: 0.9721 - loss: 0.0686 - val_accuracy: 0.9670 - val_f1_metric: 0.9465 - val_loss: 0.1143\n",
            "Epoch 48/50\n",
            "\u001b[1m37/37\u001b[0m \u001b[32m━━━━━━━━━━━━━━━━━━━━\u001b[0m\u001b[37m\u001b[0m \u001b[1m0s\u001b[0m 4ms/step - accuracy: 0.9796 - f1_metric: 0.9641 - loss: 0.0877 - val_accuracy: 0.9780 - val_f1_metric: 0.9556 - val_loss: 0.1137\n",
            "Epoch 49/50\n",
            "\u001b[1m37/37\u001b[0m \u001b[32m━━━━━━━━━━━━━━━━━━━━\u001b[0m\u001b[37m\u001b[0m \u001b[1m0s\u001b[0m 4ms/step - accuracy: 0.9831 - f1_metric: 0.9566 - loss: 0.0637 - val_accuracy: 0.9670 - val_f1_metric: 0.9465 - val_loss: 0.1132\n",
            "Epoch 50/50\n",
            "\u001b[1m37/37\u001b[0m \u001b[32m━━━━━━━━━━━━━━━━━━━━\u001b[0m\u001b[37m\u001b[0m \u001b[1m0s\u001b[0m 4ms/step - accuracy: 0.9769 - f1_metric: 0.9755 - loss: 0.0605 - val_accuracy: 0.9780 - val_f1_metric: 0.9556 - val_loss: 0.1124\n"
          ]
        }
      ]
    },
    {
      "cell_type": "markdown",
      "source": [
        "## 1.5 Avaliação no conjunto de teste"
      ],
      "metadata": {
        "id": "pmQCVpBiiaz_"
      }
    },
    {
      "cell_type": "code",
      "source": [
        "# Previsões no conjunto de teste\n",
        "y_pred_prob = model.predict(X_test)\n",
        "y_pred = (y_pred_prob >= 0.5).astype(int)\n",
        "\n",
        "# Acurácia e F1 com scikit-learn\n",
        "acc = accuracy_score(y_test, y_pred)\n",
        "f1  = f1_score(y_test, y_pred)\n",
        "\n",
        "print(f\"Acurácia no teste: {acc:.4f}\")\n",
        "print(f\"F1-score no teste: {f1:.4f}\")\n"
      ],
      "metadata": {
        "colab": {
          "base_uri": "https://localhost:8080/"
        },
        "id": "EcFQ_B-ChyDL",
        "outputId": "11e1ae03-e23a-49fb-d1b0-d81577587642"
      },
      "execution_count": 33,
      "outputs": [
        {
          "output_type": "stream",
          "name": "stdout",
          "text": [
            "\u001b[1m4/4\u001b[0m \u001b[32m━━━━━━━━━━━━━━━━━━━━\u001b[0m\u001b[37m\u001b[0m \u001b[1m0s\u001b[0m 13ms/step\n",
            "Acurácia no teste: 0.9825\n",
            "F1-score no teste: 0.9756\n"
          ]
        }
      ]
    },
    {
      "cell_type": "markdown",
      "source": [
        "## 1.6 Interpretação dos Resultados\n",
        "\n",
        "- O modelo atingiu altíssima acurácia e F1-score. Isso significa que ele classificou corretamente cerca de 98% das amostras de teste.\n",
        "\n",
        "- O F1-score elevado indica que tanto a precisão (evitar falsos positivos) quanto o recall (evitar falsos negativos) estão bem balanceados — o que é essencial em problemas médicos, já que perder um caso maligno seria crítico.\n",
        "\n",
        "- Esses números mostram que mesmo uma arquitetura extremamente simples (basicamente uma regressão logística com Keras) já é muito eficaz para esse dataset."
      ],
      "metadata": {
        "id": "-IHfTSsrjCpb"
      }
    },
    {
      "cell_type": "code",
      "source": [],
      "metadata": {
        "id": "4jO4KOgYiiwZ"
      },
      "execution_count": null,
      "outputs": []
    }
  ]
}