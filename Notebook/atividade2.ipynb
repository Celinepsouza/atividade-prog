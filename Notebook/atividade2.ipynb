{
  "cells": [
    {
      "cell_type": "markdown",
      "id": "f36dc99e",
      "metadata": {
        "id": "f36dc99e"
      },
      "source": [
        "# Detecção de Fraudes com Rede Neural (Colab)\n",
        "\n",
        "Este notebook executa o pipeline completo solicitado:\n",
        "1) Baixar os dados do Google Drive (via `gdown`)\n",
        "2) Treinar um **modelo base** de MLP (Keras/TensorFlow)\n",
        "3) Calcular **métricas**: *accuracy (precisão global)*, **precision**, **recall**, **F1-score**, **AUC-ROC**, **matriz de confusão**\n",
        "4) Fazer **ajuste fino** de hiperparâmetros com **RandomizedSearchCV** e **GridSearchCV** (scikit-learn + scikeras)\n",
        "5) **Comparar** os resultados do modelo base vs. o modelo otimizado\n",
        "6) Documentar observações e salvar saídas\n"
      ]
    },
    {
      "cell_type": "code",
      "execution_count": 1,
      "id": "a4489be7",
      "metadata": {
        "colab": {
          "base_uri": "https://localhost:8080/"
        },
        "id": "a4489be7",
        "outputId": "1b981cfa-c2d9-4fc2-8a41-ec69b0afef06"
      },
      "outputs": [
        {
          "output_type": "stream",
          "name": "stdout",
          "text": [
            "Collecting scikit-learn==1.5.1\n",
            "  Downloading scikit_learn-1.5.1-cp312-cp312-manylinux_2_17_x86_64.manylinux2014_x86_64.whl.metadata (12 kB)\n",
            "\u001b[31mERROR: Ignored the following versions that require a different python version: 0.10.0 Requires-Python >=3.7.0,<3.11.0; 0.11.0 Requires-Python >=3.8.0,<3.12.0; 0.12.0 Requires-Python >=3.8.0,<3.12.0; 0.2.0 Requires-Python >=3.6.7,<3.9; 0.2.1 Requires-Python >=3.6.7,<3.9; 0.6.0 Requires-Python >=3.7.0,<3.10.0; 0.6.1 Requires-Python >=3.7.0,<3.10.0; 0.7.0 Requires-Python >=3.7.0,<3.10.0; 0.8.0 Requires-Python >=3.7.0,<3.11.0; 0.9.0 Requires-Python >=3.7.0,<3.11.0\u001b[0m\u001b[31m\n",
            "\u001b[0m\u001b[31mERROR: Could not find a version that satisfies the requirement scikeras==0.12.0 (from versions: 0.1.6, 0.1.7, 0.1.8, 0.3.0, 0.3.1, 0.3.3, 0.4.0, 0.4.1, 0.13.0)\u001b[0m\u001b[31m\n",
            "\u001b[0m\u001b[31mERROR: No matching distribution found for scikeras==0.12.0\u001b[0m\u001b[31m\n",
            "\u001b[0mRequirement already satisfied: gdown in /usr/local/lib/python3.12/dist-packages (5.2.0)\n",
            "Requirement already satisfied: beautifulsoup4 in /usr/local/lib/python3.12/dist-packages (from gdown) (4.13.5)\n",
            "Requirement already satisfied: filelock in /usr/local/lib/python3.12/dist-packages (from gdown) (3.19.1)\n",
            "Requirement already satisfied: requests[socks] in /usr/local/lib/python3.12/dist-packages (from gdown) (2.32.4)\n",
            "Requirement already satisfied: tqdm in /usr/local/lib/python3.12/dist-packages (from gdown) (4.67.1)\n",
            "Requirement already satisfied: soupsieve>1.2 in /usr/local/lib/python3.12/dist-packages (from beautifulsoup4->gdown) (2.7)\n",
            "Requirement already satisfied: typing-extensions>=4.0.0 in /usr/local/lib/python3.12/dist-packages (from beautifulsoup4->gdown) (4.15.0)\n",
            "Requirement already satisfied: charset_normalizer<4,>=2 in /usr/local/lib/python3.12/dist-packages (from requests[socks]->gdown) (3.4.3)\n",
            "Requirement already satisfied: idna<4,>=2.5 in /usr/local/lib/python3.12/dist-packages (from requests[socks]->gdown) (3.10)\n",
            "Requirement already satisfied: urllib3<3,>=1.21.1 in /usr/local/lib/python3.12/dist-packages (from requests[socks]->gdown) (2.5.0)\n",
            "Requirement already satisfied: certifi>=2017.4.17 in /usr/local/lib/python3.12/dist-packages (from requests[socks]->gdown) (2025.8.3)\n",
            "Requirement already satisfied: PySocks!=1.5.7,>=1.5.6 in /usr/local/lib/python3.12/dist-packages (from requests[socks]->gdown) (1.7.1)\n",
            "Python: 3.12.11 (main, Jun  4 2025, 08:56:18) [GCC 11.4.0]\n",
            "Pacotes OK.\n"
          ]
        }
      ],
      "source": [
        "!pip -q install scikeras imbalanced-learn\n",
        "\n",
        "!pip install --upgrade scikit-learn==1.5.1 scikeras==0.12.0\n",
        "\n",
        "%pip install gdown\n",
        "import gdown\n",
        "\n",
        "import sys, numpy as np, pandas as pd, matplotlib.pyplot as plt\n",
        "\n",
        "print(\"Python:\", sys.version)\n",
        "print(\"Pacotes OK.\")"
      ]
    },
    {
      "cell_type": "code",
      "source": [
        "# --- Auto-fix de versões (execute esta célula antes de tudo) ---\n",
        "# Este bloco corrige automaticamente a combinação de versões e reinicia o runtime.\n",
        "import os, sys, subprocess, importlib\n",
        "from packaging.version import Version\n",
        "\n",
        "def _ver(modname):\n",
        "    try:\n",
        "        return importlib.import_module(modname).__version__\n",
        "    except Exception:\n",
        "        return \"N/A\"\n",
        "\n",
        "def ensure_compatible_versions():\n",
        "    try:\n",
        "        import sklearn, scikeras\n",
        "        skl_v = _ver(\"sklearn\")\n",
        "        sck_v = _ver(\"scikeras\")\n",
        "        need_fix = (Version(skl_v) >= Version(\"1.6\")) or (Version(sck_v) > Version(\"0.12.0\"))\n",
        "        print(f\"Status atual: scikit-learn={skl_v}, scikeras={sck_v}\")\n",
        "        if need_fix:\n",
        "            print(\"Aplicando correção: scikit-learn==1.5.1, scikeras==0.12.0 ...\")\n",
        "            subprocess.check_call([sys.executable, \"-m\", \"pip\", \"install\", \"-q\",\n",
        "                                   \"scikit-learn==1.5.1\", \"scikeras==0.12.0\"])\n",
        "            # Limpa a saída e reinicia o processo do kernel para carregar versões novas\n",
        "            from IPython.display import clear_output\n",
        "            clear_output()\n",
        "            print(\"Reiniciando runtime para aplicar versões...\")\n",
        "            os.kill(os.getpid(), 9)\n",
        "        else:\n",
        "            print(\"Versões já compatíveis. Pode seguir.\")\n",
        "    except Exception as e:\n",
        "        print(\"Falha ao verificar/aplicar correção de versões:\", e)\n",
        "\n",
        "ensure_compatible_versions()\n"
      ],
      "metadata": {
        "colab": {
          "base_uri": "https://localhost:8080/"
        },
        "id": "CiVp3rYwKlJj",
        "outputId": "97337ec6-7b7f-4004-a62d-6331762bb7a7"
      },
      "id": "CiVp3rYwKlJj",
      "execution_count": 2,
      "outputs": [
        {
          "output_type": "stream",
          "name": "stdout",
          "text": [
            "Status atual: scikit-learn=1.6.1, scikeras=0.13.0\n",
            "Aplicando correção: scikit-learn==1.5.1, scikeras==0.12.0 ...\n",
            "Falha ao verificar/aplicar correção de versões: Command '['/usr/bin/python3', '-m', 'pip', 'install', '-q', 'scikit-learn==1.5.1', 'scikeras==0.12.0']' returned non-zero exit status 1.\n"
          ]
        }
      ]
    },
    {
      "cell_type": "markdown",
      "id": "913eea44",
      "metadata": {
        "id": "913eea44"
      },
      "source": [
        "## 2) Download e carregamento dos dados"
      ]
    },
    {
      "cell_type": "code",
      "execution_count": 3,
      "id": "f0c2572e",
      "metadata": {
        "id": "f0c2572e",
        "colab": {
          "base_uri": "https://localhost:8080/",
          "height": 359
        },
        "outputId": "1a295d2e-3f58-4e82-856d-08861578776e"
      },
      "outputs": [
        {
          "output_type": "stream",
          "name": "stderr",
          "text": [
            "Downloading...\n",
            "From (original): https://drive.google.com/uc?id=1u_OWAPkIdgJw1ah5xP_dGBFMSANxjxEl\n",
            "From (redirected): https://drive.google.com/uc?id=1u_OWAPkIdgJw1ah5xP_dGBFMSANxjxEl&confirm=t&uuid=8d54a25b-af93-435f-8fdb-989011ebb157\n",
            "To: /content/dataset.csv\n",
            "100%|██████████| 151M/151M [00:02<00:00, 71.6MB/s]\n"
          ]
        },
        {
          "output_type": "stream",
          "name": "stdout",
          "text": [
            "(284807, 31)\n"
          ]
        },
        {
          "output_type": "execute_result",
          "data": {
            "text/plain": [
              "   Time        V1        V2        V3        V4        V5        V6        V7  \\\n",
              "0   0.0 -1.359807 -0.072781  2.536347  1.378155 -0.338321  0.462388  0.239599   \n",
              "1   0.0  1.191857  0.266151  0.166480  0.448154  0.060018 -0.082361 -0.078803   \n",
              "2   1.0 -1.358354 -1.340163  1.773209  0.379780 -0.503198  1.800499  0.791461   \n",
              "3   1.0 -0.966272 -0.185226  1.792993 -0.863291 -0.010309  1.247203  0.237609   \n",
              "4   2.0 -1.158233  0.877737  1.548718  0.403034 -0.407193  0.095921  0.592941   \n",
              "\n",
              "         V8        V9  ...       V21       V22       V23       V24       V25  \\\n",
              "0  0.098698  0.363787  ... -0.018307  0.277838 -0.110474  0.066928  0.128539   \n",
              "1  0.085102 -0.255425  ... -0.225775 -0.638672  0.101288 -0.339846  0.167170   \n",
              "2  0.247676 -1.514654  ...  0.247998  0.771679  0.909412 -0.689281 -0.327642   \n",
              "3  0.377436 -1.387024  ... -0.108300  0.005274 -0.190321 -1.175575  0.647376   \n",
              "4 -0.270533  0.817739  ... -0.009431  0.798278 -0.137458  0.141267 -0.206010   \n",
              "\n",
              "        V26       V27       V28  Amount  Class  \n",
              "0 -0.189115  0.133558 -0.021053  149.62      0  \n",
              "1  0.125895 -0.008983  0.014724    2.69      0  \n",
              "2 -0.139097 -0.055353 -0.059752  378.66      0  \n",
              "3 -0.221929  0.062723  0.061458  123.50      0  \n",
              "4  0.502292  0.219422  0.215153   69.99      0  \n",
              "\n",
              "[5 rows x 31 columns]"
            ],
            "text/html": [
              "\n",
              "  <div id=\"df-7e166b28-2700-44f5-9256-0ad1db53b20f\" class=\"colab-df-container\">\n",
              "    <div>\n",
              "<style scoped>\n",
              "    .dataframe tbody tr th:only-of-type {\n",
              "        vertical-align: middle;\n",
              "    }\n",
              "\n",
              "    .dataframe tbody tr th {\n",
              "        vertical-align: top;\n",
              "    }\n",
              "\n",
              "    .dataframe thead th {\n",
              "        text-align: right;\n",
              "    }\n",
              "</style>\n",
              "<table border=\"1\" class=\"dataframe\">\n",
              "  <thead>\n",
              "    <tr style=\"text-align: right;\">\n",
              "      <th></th>\n",
              "      <th>Time</th>\n",
              "      <th>V1</th>\n",
              "      <th>V2</th>\n",
              "      <th>V3</th>\n",
              "      <th>V4</th>\n",
              "      <th>V5</th>\n",
              "      <th>V6</th>\n",
              "      <th>V7</th>\n",
              "      <th>V8</th>\n",
              "      <th>V9</th>\n",
              "      <th>...</th>\n",
              "      <th>V21</th>\n",
              "      <th>V22</th>\n",
              "      <th>V23</th>\n",
              "      <th>V24</th>\n",
              "      <th>V25</th>\n",
              "      <th>V26</th>\n",
              "      <th>V27</th>\n",
              "      <th>V28</th>\n",
              "      <th>Amount</th>\n",
              "      <th>Class</th>\n",
              "    </tr>\n",
              "  </thead>\n",
              "  <tbody>\n",
              "    <tr>\n",
              "      <th>0</th>\n",
              "      <td>0.0</td>\n",
              "      <td>-1.359807</td>\n",
              "      <td>-0.072781</td>\n",
              "      <td>2.536347</td>\n",
              "      <td>1.378155</td>\n",
              "      <td>-0.338321</td>\n",
              "      <td>0.462388</td>\n",
              "      <td>0.239599</td>\n",
              "      <td>0.098698</td>\n",
              "      <td>0.363787</td>\n",
              "      <td>...</td>\n",
              "      <td>-0.018307</td>\n",
              "      <td>0.277838</td>\n",
              "      <td>-0.110474</td>\n",
              "      <td>0.066928</td>\n",
              "      <td>0.128539</td>\n",
              "      <td>-0.189115</td>\n",
              "      <td>0.133558</td>\n",
              "      <td>-0.021053</td>\n",
              "      <td>149.62</td>\n",
              "      <td>0</td>\n",
              "    </tr>\n",
              "    <tr>\n",
              "      <th>1</th>\n",
              "      <td>0.0</td>\n",
              "      <td>1.191857</td>\n",
              "      <td>0.266151</td>\n",
              "      <td>0.166480</td>\n",
              "      <td>0.448154</td>\n",
              "      <td>0.060018</td>\n",
              "      <td>-0.082361</td>\n",
              "      <td>-0.078803</td>\n",
              "      <td>0.085102</td>\n",
              "      <td>-0.255425</td>\n",
              "      <td>...</td>\n",
              "      <td>-0.225775</td>\n",
              "      <td>-0.638672</td>\n",
              "      <td>0.101288</td>\n",
              "      <td>-0.339846</td>\n",
              "      <td>0.167170</td>\n",
              "      <td>0.125895</td>\n",
              "      <td>-0.008983</td>\n",
              "      <td>0.014724</td>\n",
              "      <td>2.69</td>\n",
              "      <td>0</td>\n",
              "    </tr>\n",
              "    <tr>\n",
              "      <th>2</th>\n",
              "      <td>1.0</td>\n",
              "      <td>-1.358354</td>\n",
              "      <td>-1.340163</td>\n",
              "      <td>1.773209</td>\n",
              "      <td>0.379780</td>\n",
              "      <td>-0.503198</td>\n",
              "      <td>1.800499</td>\n",
              "      <td>0.791461</td>\n",
              "      <td>0.247676</td>\n",
              "      <td>-1.514654</td>\n",
              "      <td>...</td>\n",
              "      <td>0.247998</td>\n",
              "      <td>0.771679</td>\n",
              "      <td>0.909412</td>\n",
              "      <td>-0.689281</td>\n",
              "      <td>-0.327642</td>\n",
              "      <td>-0.139097</td>\n",
              "      <td>-0.055353</td>\n",
              "      <td>-0.059752</td>\n",
              "      <td>378.66</td>\n",
              "      <td>0</td>\n",
              "    </tr>\n",
              "    <tr>\n",
              "      <th>3</th>\n",
              "      <td>1.0</td>\n",
              "      <td>-0.966272</td>\n",
              "      <td>-0.185226</td>\n",
              "      <td>1.792993</td>\n",
              "      <td>-0.863291</td>\n",
              "      <td>-0.010309</td>\n",
              "      <td>1.247203</td>\n",
              "      <td>0.237609</td>\n",
              "      <td>0.377436</td>\n",
              "      <td>-1.387024</td>\n",
              "      <td>...</td>\n",
              "      <td>-0.108300</td>\n",
              "      <td>0.005274</td>\n",
              "      <td>-0.190321</td>\n",
              "      <td>-1.175575</td>\n",
              "      <td>0.647376</td>\n",
              "      <td>-0.221929</td>\n",
              "      <td>0.062723</td>\n",
              "      <td>0.061458</td>\n",
              "      <td>123.50</td>\n",
              "      <td>0</td>\n",
              "    </tr>\n",
              "    <tr>\n",
              "      <th>4</th>\n",
              "      <td>2.0</td>\n",
              "      <td>-1.158233</td>\n",
              "      <td>0.877737</td>\n",
              "      <td>1.548718</td>\n",
              "      <td>0.403034</td>\n",
              "      <td>-0.407193</td>\n",
              "      <td>0.095921</td>\n",
              "      <td>0.592941</td>\n",
              "      <td>-0.270533</td>\n",
              "      <td>0.817739</td>\n",
              "      <td>...</td>\n",
              "      <td>-0.009431</td>\n",
              "      <td>0.798278</td>\n",
              "      <td>-0.137458</td>\n",
              "      <td>0.141267</td>\n",
              "      <td>-0.206010</td>\n",
              "      <td>0.502292</td>\n",
              "      <td>0.219422</td>\n",
              "      <td>0.215153</td>\n",
              "      <td>69.99</td>\n",
              "      <td>0</td>\n",
              "    </tr>\n",
              "  </tbody>\n",
              "</table>\n",
              "<p>5 rows × 31 columns</p>\n",
              "</div>\n",
              "    <div class=\"colab-df-buttons\">\n",
              "\n",
              "  <div class=\"colab-df-container\">\n",
              "    <button class=\"colab-df-convert\" onclick=\"convertToInteractive('df-7e166b28-2700-44f5-9256-0ad1db53b20f')\"\n",
              "            title=\"Convert this dataframe to an interactive table.\"\n",
              "            style=\"display:none;\">\n",
              "\n",
              "  <svg xmlns=\"http://www.w3.org/2000/svg\" height=\"24px\" viewBox=\"0 -960 960 960\">\n",
              "    <path d=\"M120-120v-720h720v720H120Zm60-500h600v-160H180v160Zm220 220h160v-160H400v160Zm0 220h160v-160H400v160ZM180-400h160v-160H180v160Zm440 0h160v-160H620v160ZM180-180h160v-160H180v160Zm440 0h160v-160H620v160Z\"/>\n",
              "  </svg>\n",
              "    </button>\n",
              "\n",
              "  <style>\n",
              "    .colab-df-container {\n",
              "      display:flex;\n",
              "      gap: 12px;\n",
              "    }\n",
              "\n",
              "    .colab-df-convert {\n",
              "      background-color: #E8F0FE;\n",
              "      border: none;\n",
              "      border-radius: 50%;\n",
              "      cursor: pointer;\n",
              "      display: none;\n",
              "      fill: #1967D2;\n",
              "      height: 32px;\n",
              "      padding: 0 0 0 0;\n",
              "      width: 32px;\n",
              "    }\n",
              "\n",
              "    .colab-df-convert:hover {\n",
              "      background-color: #E2EBFA;\n",
              "      box-shadow: 0px 1px 2px rgba(60, 64, 67, 0.3), 0px 1px 3px 1px rgba(60, 64, 67, 0.15);\n",
              "      fill: #174EA6;\n",
              "    }\n",
              "\n",
              "    .colab-df-buttons div {\n",
              "      margin-bottom: 4px;\n",
              "    }\n",
              "\n",
              "    [theme=dark] .colab-df-convert {\n",
              "      background-color: #3B4455;\n",
              "      fill: #D2E3FC;\n",
              "    }\n",
              "\n",
              "    [theme=dark] .colab-df-convert:hover {\n",
              "      background-color: #434B5C;\n",
              "      box-shadow: 0px 1px 3px 1px rgba(0, 0, 0, 0.15);\n",
              "      filter: drop-shadow(0px 1px 2px rgba(0, 0, 0, 0.3));\n",
              "      fill: #FFFFFF;\n",
              "    }\n",
              "  </style>\n",
              "\n",
              "    <script>\n",
              "      const buttonEl =\n",
              "        document.querySelector('#df-7e166b28-2700-44f5-9256-0ad1db53b20f button.colab-df-convert');\n",
              "      buttonEl.style.display =\n",
              "        google.colab.kernel.accessAllowed ? 'block' : 'none';\n",
              "\n",
              "      async function convertToInteractive(key) {\n",
              "        const element = document.querySelector('#df-7e166b28-2700-44f5-9256-0ad1db53b20f');\n",
              "        const dataTable =\n",
              "          await google.colab.kernel.invokeFunction('convertToInteractive',\n",
              "                                                    [key], {});\n",
              "        if (!dataTable) return;\n",
              "\n",
              "        const docLinkHtml = 'Like what you see? Visit the ' +\n",
              "          '<a target=\"_blank\" href=https://colab.research.google.com/notebooks/data_table.ipynb>data table notebook</a>'\n",
              "          + ' to learn more about interactive tables.';\n",
              "        element.innerHTML = '';\n",
              "        dataTable['output_type'] = 'display_data';\n",
              "        await google.colab.output.renderOutput(dataTable, element);\n",
              "        const docLink = document.createElement('div');\n",
              "        docLink.innerHTML = docLinkHtml;\n",
              "        element.appendChild(docLink);\n",
              "      }\n",
              "    </script>\n",
              "  </div>\n",
              "\n",
              "\n",
              "    <div id=\"df-a6a392b1-cd23-4b50-99c6-e9daff5b8571\">\n",
              "      <button class=\"colab-df-quickchart\" onclick=\"quickchart('df-a6a392b1-cd23-4b50-99c6-e9daff5b8571')\"\n",
              "                title=\"Suggest charts\"\n",
              "                style=\"display:none;\">\n",
              "\n",
              "<svg xmlns=\"http://www.w3.org/2000/svg\" height=\"24px\"viewBox=\"0 0 24 24\"\n",
              "     width=\"24px\">\n",
              "    <g>\n",
              "        <path d=\"M19 3H5c-1.1 0-2 .9-2 2v14c0 1.1.9 2 2 2h14c1.1 0 2-.9 2-2V5c0-1.1-.9-2-2-2zM9 17H7v-7h2v7zm4 0h-2V7h2v10zm4 0h-2v-4h2v4z\"/>\n",
              "    </g>\n",
              "</svg>\n",
              "      </button>\n",
              "\n",
              "<style>\n",
              "  .colab-df-quickchart {\n",
              "      --bg-color: #E8F0FE;\n",
              "      --fill-color: #1967D2;\n",
              "      --hover-bg-color: #E2EBFA;\n",
              "      --hover-fill-color: #174EA6;\n",
              "      --disabled-fill-color: #AAA;\n",
              "      --disabled-bg-color: #DDD;\n",
              "  }\n",
              "\n",
              "  [theme=dark] .colab-df-quickchart {\n",
              "      --bg-color: #3B4455;\n",
              "      --fill-color: #D2E3FC;\n",
              "      --hover-bg-color: #434B5C;\n",
              "      --hover-fill-color: #FFFFFF;\n",
              "      --disabled-bg-color: #3B4455;\n",
              "      --disabled-fill-color: #666;\n",
              "  }\n",
              "\n",
              "  .colab-df-quickchart {\n",
              "    background-color: var(--bg-color);\n",
              "    border: none;\n",
              "    border-radius: 50%;\n",
              "    cursor: pointer;\n",
              "    display: none;\n",
              "    fill: var(--fill-color);\n",
              "    height: 32px;\n",
              "    padding: 0;\n",
              "    width: 32px;\n",
              "  }\n",
              "\n",
              "  .colab-df-quickchart:hover {\n",
              "    background-color: var(--hover-bg-color);\n",
              "    box-shadow: 0 1px 2px rgba(60, 64, 67, 0.3), 0 1px 3px 1px rgba(60, 64, 67, 0.15);\n",
              "    fill: var(--button-hover-fill-color);\n",
              "  }\n",
              "\n",
              "  .colab-df-quickchart-complete:disabled,\n",
              "  .colab-df-quickchart-complete:disabled:hover {\n",
              "    background-color: var(--disabled-bg-color);\n",
              "    fill: var(--disabled-fill-color);\n",
              "    box-shadow: none;\n",
              "  }\n",
              "\n",
              "  .colab-df-spinner {\n",
              "    border: 2px solid var(--fill-color);\n",
              "    border-color: transparent;\n",
              "    border-bottom-color: var(--fill-color);\n",
              "    animation:\n",
              "      spin 1s steps(1) infinite;\n",
              "  }\n",
              "\n",
              "  @keyframes spin {\n",
              "    0% {\n",
              "      border-color: transparent;\n",
              "      border-bottom-color: var(--fill-color);\n",
              "      border-left-color: var(--fill-color);\n",
              "    }\n",
              "    20% {\n",
              "      border-color: transparent;\n",
              "      border-left-color: var(--fill-color);\n",
              "      border-top-color: var(--fill-color);\n",
              "    }\n",
              "    30% {\n",
              "      border-color: transparent;\n",
              "      border-left-color: var(--fill-color);\n",
              "      border-top-color: var(--fill-color);\n",
              "      border-right-color: var(--fill-color);\n",
              "    }\n",
              "    40% {\n",
              "      border-color: transparent;\n",
              "      border-right-color: var(--fill-color);\n",
              "      border-top-color: var(--fill-color);\n",
              "    }\n",
              "    60% {\n",
              "      border-color: transparent;\n",
              "      border-right-color: var(--fill-color);\n",
              "    }\n",
              "    80% {\n",
              "      border-color: transparent;\n",
              "      border-right-color: var(--fill-color);\n",
              "      border-bottom-color: var(--fill-color);\n",
              "    }\n",
              "    90% {\n",
              "      border-color: transparent;\n",
              "      border-bottom-color: var(--fill-color);\n",
              "    }\n",
              "  }\n",
              "</style>\n",
              "\n",
              "      <script>\n",
              "        async function quickchart(key) {\n",
              "          const quickchartButtonEl =\n",
              "            document.querySelector('#' + key + ' button');\n",
              "          quickchartButtonEl.disabled = true;  // To prevent multiple clicks.\n",
              "          quickchartButtonEl.classList.add('colab-df-spinner');\n",
              "          try {\n",
              "            const charts = await google.colab.kernel.invokeFunction(\n",
              "                'suggestCharts', [key], {});\n",
              "          } catch (error) {\n",
              "            console.error('Error during call to suggestCharts:', error);\n",
              "          }\n",
              "          quickchartButtonEl.classList.remove('colab-df-spinner');\n",
              "          quickchartButtonEl.classList.add('colab-df-quickchart-complete');\n",
              "        }\n",
              "        (() => {\n",
              "          let quickchartButtonEl =\n",
              "            document.querySelector('#df-a6a392b1-cd23-4b50-99c6-e9daff5b8571 button');\n",
              "          quickchartButtonEl.style.display =\n",
              "            google.colab.kernel.accessAllowed ? 'block' : 'none';\n",
              "        })();\n",
              "      </script>\n",
              "    </div>\n",
              "\n",
              "    </div>\n",
              "  </div>\n"
            ],
            "application/vnd.google.colaboratory.intrinsic+json": {
              "type": "dataframe",
              "variable_name": "df"
            }
          },
          "metadata": {},
          "execution_count": 3
        }
      ],
      "source": [
        "import os\n",
        "\n",
        "arquivo_destino_colab = \"dataset.csv\"\n",
        "doc_id = \"1u_OWAPkIdgJw1ah5xP_dGBFMSANxjxEl\"\n",
        "URL = f\"https://drive.google.com/uc?id={doc_id}\"\n",
        "gdown.download(URL, arquivo_destino_colab, quiet=False)\n",
        "\n",
        "assert os.path.exists(arquivo_destino_colab), \"Arquivo não baixado. Verifique o DOC_ID e permissões do Drive.\"\n",
        "df = pd.read_csv(arquivo_destino_colab)\n",
        "\n",
        "print(df.shape)\n",
        "df.head().head()"
      ]
    },
    {
      "cell_type": "markdown",
      "id": "fe861b7b",
      "metadata": {
        "id": "fe861b7b"
      },
      "source": [
        "## 3) Inspeção e preparação dos dados"
      ]
    },
    {
      "cell_type": "markdown",
      "source": [
        "Essa parte prepara os dados para o modelo, garantindo: identificação da estrutura e do desbalanceamento da base, separação correta entre variáveis preditoras e alvo, divisão estratificada em treino e teste, e padronização dos atributos numéricos. Tudo isso é essencial para um treinamento consistente e resultados mais confiáveis."
      ],
      "metadata": {
        "id": "BfUH0bmDRt37"
      },
      "id": "BfUH0bmDRt37"
    },
    {
      "cell_type": "code",
      "execution_count": 4,
      "id": "7c051b52",
      "metadata": {
        "id": "7c051b52",
        "colab": {
          "base_uri": "https://localhost:8080/"
        },
        "outputId": "ebe7be25-dc3f-47d9-af73-5c9fdccb34e5"
      },
      "outputs": [
        {
          "output_type": "stream",
          "name": "stdout",
          "text": [
            "Colunas: ['Time', 'V1', 'V2', 'V3', 'V4', 'V5', 'V6', 'V7', 'V8', 'V9', 'V10', 'V11', 'V12', 'V13', 'V14', 'V15', 'V16', 'V17', 'V18', 'V19', 'V20', 'V21', 'V22', 'V23', 'V24', 'V25', 'V26', 'V27', 'V28', 'Amount', 'Class']\n",
            "\n",
            "Contagem de classes (esperado desbalanceamento):\n",
            "Class\n",
            "0    284315\n",
            "1       492\n",
            "Name: count, dtype: int64\n",
            "Tamanhos:  (227845, 30) (56962, 30)\n"
          ]
        }
      ],
      "source": [
        "print(\"Colunas:\", list(df.columns))\n",
        "print(\"\\nContagem de classes (esperado desbalanceamento):\")\n",
        "print(df['Class'].value_counts(dropna=False))\n",
        "\n",
        "TARGET_COL = 'Class'\n",
        "y = df[TARGET_COL].astype(int)\n",
        "\n",
        "# Seleção de atributos: usa todas as colunas numéricas exceto o alvo\n",
        "X = df.select_dtypes(include='number').drop(columns=[TARGET_COL], errors='ignore')\n",
        "\n",
        "from sklearn.model_selection import train_test_split\n",
        "X_train, X_test, y_train, y_test = train_test_split(\n",
        "    X, y, test_size=0.2, random_state=42, stratify=y\n",
        ")\n",
        "\n",
        "from sklearn.preprocessing import StandardScaler\n",
        "scaler = StandardScaler()\n",
        "X_train_scaled = scaler.fit_transform(X_train)\n",
        "X_test_scaled = scaler.transform(X_test)\n",
        "\n",
        "print(\"Tamanhos: \", X_train.shape, X_test.shape)"
      ]
    },
    {
      "cell_type": "markdown",
      "source": [
        "Os resultados mostram que:\n",
        "\n",
        "- O dataset contém 30 variáveis preditoras mais a coluna Class, que é a variável alvo indicando fraude (1) ou não (0).\n",
        "\n",
        "- Há um forte desbalanceamento: apenas 492 transações fraudulentas contra 284.315 não fraudulentas, ou seja, menos de 0,2% do total. Esse desbalanceamento exige técnicas adequadas, como métricas focadas em classes minoritárias (AUC, recall) ou balanceamento dos dados.\n",
        "\n",
        "- Após a divisão treino-teste, temos 227.845 amostras para treino e 56.962 para teste, preservando o mesmo número de variáveis (30) e mantendo a proporção de classes através da estratificação."
      ],
      "metadata": {
        "id": "8N8TloYNR0pD"
      },
      "id": "8N8TloYNR0pD"
    },
    {
      "cell_type": "markdown",
      "id": "0c9cb740",
      "metadata": {
        "id": "0c9cb740"
      },
      "source": [
        "## 4) Modelo base (MLP)"
      ]
    },
    {
      "cell_type": "markdown",
      "source": [
        "Esse código constrói e treina um modelo baseline de rede neural para detecção de fraudes. Ele usa uma rede simples com camadas densas, dropout para regularização e otimização com Adam. O treino inclui validação e early stopping para evitar overfitting. Por fim, exibe a melhor AUC, servindo como ponto de partida para comparar modelos mais avançados."
      ],
      "metadata": {
        "id": "QmuXgyV7R-1-"
      },
      "id": "QmuXgyV7R-1-"
    },
    {
      "cell_type": "code",
      "execution_count": 5,
      "id": "dd143ffa",
      "metadata": {
        "id": "dd143ffa",
        "colab": {
          "base_uri": "https://localhost:8080/"
        },
        "outputId": "e8b088e6-a6f6-428c-fb68-fb184eafa3e3"
      },
      "outputs": [
        {
          "output_type": "stream",
          "name": "stdout",
          "text": [
            "Melhor AUC (val): 0.9512783885002136\n"
          ]
        }
      ],
      "source": [
        "import tensorflow as tf\n",
        "from tensorflow import keras\n",
        "from tensorflow.keras import layers\n",
        "\n",
        "def build_baseline(input_dim):\n",
        "    model = keras.Sequential([\n",
        "        layers.Input(shape=(input_dim,)),\n",
        "        layers.Dense(32, activation='relu'),\n",
        "        layers.Dropout(0.2),\n",
        "        layers.Dense(16, activation='relu'),\n",
        "        layers.Dense(1, activation='sigmoid')\n",
        "    ])\n",
        "    model.compile(optimizer=keras.optimizers.Adam(learning_rate=1e-3),\n",
        "                  loss='binary_crossentropy',\n",
        "                  metrics=[keras.metrics.AUC(name='auc')])\n",
        "    return model\n",
        "\n",
        "baseline = build_baseline(X_train_scaled.shape[1])\n",
        "es = keras.callbacks.EarlyStopping(monitor='val_auc', mode='max', patience=5, restore_best_weights=True)\n",
        "hist = baseline.fit(\n",
        "    X_train_scaled, y_train,\n",
        "    validation_split=0.2,\n",
        "    epochs=50, batch_size=2048, callbacks=[es], verbose=0\n",
        ")\n",
        "\n",
        "print(\"Melhor AUC (val):\", max(hist.history['val_auc']))"
      ]
    },
    {
      "cell_type": "markdown",
      "source": [
        "Uma AUC de ~0,95 no conjunto de validação indica que o modelo baseline já está conseguindo distinguir muito bem as transações fraudulentas das não fraudulentas.\n",
        "\n",
        "- Ponto positivo: mesmo sem tuning avançado, a rede neural apresenta uma ótima capacidade de classificação.\n",
        "\n",
        "- Atenção: esse valor ainda precisa ser validado no conjunto de teste para confirmar se não há overfitting."
      ],
      "metadata": {
        "id": "3eZxE4pJSEu4"
      },
      "id": "3eZxE4pJSEu4"
    },
    {
      "cell_type": "markdown",
      "id": "009ac71f",
      "metadata": {
        "id": "009ac71f"
      },
      "source": [
        "### Métricas do modelo base"
      ]
    },
    {
      "cell_type": "markdown",
      "source": [
        "Esse trecho avalia o modelo baseline no conjunto de teste:\n",
        "\n",
        "- Gera probabilidades (predict) e classes (>=0.5).\n",
        "\n",
        "- Calcula métricas principais: acurácia, precisão, recall, F1 e AUC, oferecendo uma visão completa do desempenho.\n",
        "\n",
        "- Exibe a matriz de confusão, mostrando acertos e erros nas classes majoritária (não fraude) e minoritária (fraude).\n",
        "\n",
        "- Plota a curva ROC com a AUC, útil para analisar a capacidade de separação do modelo entre classes em diferentes limiares de decisão.\n",
        "\n",
        "É um resumo do desempenho geral, com foco na robustez do modelo para um problema desbalanceado."
      ],
      "metadata": {
        "id": "mgJbJ-GcSg5z"
      },
      "id": "mgJbJ-GcSg5z"
    },
    {
      "cell_type": "code",
      "execution_count": 6,
      "id": "594a8546",
      "metadata": {
        "id": "594a8546",
        "colab": {
          "base_uri": "https://localhost:8080/",
          "height": 663
        },
        "outputId": "8b72c868-c217-4285-db8b-7d305fd9cde0"
      },
      "outputs": [
        {
          "output_type": "stream",
          "name": "stdout",
          "text": [
            "\u001b[1m1781/1781\u001b[0m \u001b[32m━━━━━━━━━━━━━━━━━━━━\u001b[0m\u001b[37m\u001b[0m \u001b[1m2s\u001b[0m 1ms/step\n",
            "accuracy     0.999350\n",
            "precision    0.801980\n",
            "recall       0.826531\n",
            "f1           0.814070\n",
            "auc          0.978148\n",
            "dtype: float64\n",
            "\n",
            "Matriz de confusão (base):\n",
            " [[56844    20]\n",
            " [   17    81]]\n"
          ]
        },
        {
          "output_type": "display_data",
          "data": {
            "text/plain": [
              "<Figure size 640x480 with 1 Axes>"
            ],
            "image/png": "[encoded data removed]"
          },
          "metadata": {}
        }
      ],
      "source": [
        "from sklearn.metrics import classification_report, roc_auc_score, roc_curve, confusion_matrix, accuracy_score, precision_score, recall_score, f1_score\n",
        "\n",
        "# Probabilidades e predições\n",
        "y_prob_base = baseline.predict(X_test_scaled).ravel()\n",
        "y_pred_base = (y_prob_base >= 0.5).astype(int)\n",
        "\n",
        "metrics_base = {\n",
        "    \"accuracy\": accuracy_score(y_test, y_pred_base),\n",
        "    \"precision\": precision_score(y_test, y_pred_base, zero_division=0),\n",
        "    \"recall\": recall_score(y_test, y_pred_base, zero_division=0),\n",
        "    \"f1\": f1_score(y_test, y_pred_base, zero_division=0),\n",
        "    \"auc\": roc_auc_score(y_test, y_prob_base),\n",
        "}\n",
        "print(pd.Series(metrics_base))\n",
        "\n",
        "cm_base = confusion_matrix(y_test, y_pred_base)\n",
        "print(\"\\nMatriz de confusão (base):\\n\", cm_base)\n",
        "\n",
        "# Curva ROC\n",
        "fpr_b, tpr_b, _ = roc_curve(y_test, y_prob_base)\n",
        "plt.figure()\n",
        "plt.plot(fpr_b, tpr_b, label=f\"Base (AUC={metrics_base['auc']:.4f})\")\n",
        "plt.plot([0,1],[0,1],'--')\n",
        "plt.xlabel(\"FPR\")\n",
        "plt.ylabel(\"TPR\")\n",
        "plt.title(\"ROC - Modelo Base\")\n",
        "plt.legend()\n",
        "plt.show()"
      ]
    },
    {
      "cell_type": "markdown",
      "source": [
        "O modelo baseline teve excelente desempenho:\n",
        "\n",
        "- AUC = 0.978 mostra ótima separação entre fraudes e não fraudes.\n",
        "\n",
        "- Alta precisão (0.80) e bom recall (0.83), com equilíbrio no F1 (0.81).\n",
        "\n",
        "- Poucos erros na matriz de confusão, com poucas fraudes não detectadas.\n",
        "\n",
        "Ainda é possível otimizar o recall ou ajustar o threshold para reduzir falsos negativ"
      ],
      "metadata": {
        "id": "aUtsLwYHSzMh"
      },
      "id": "aUtsLwYHSzMh"
    },
    {
      "cell_type": "markdown",
      "id": "8cfaa974",
      "metadata": {
        "id": "8cfaa974"
      },
      "source": [
        "## 5) Ajuste de hiperparâmetros (RandomizedSearchCV ➜ GridSearchCV)"
      ]
    },
    {
      "cell_type": "markdown",
      "source": [
        "Essa parte do código realiza o tuning do modelo Keras de forma rápida e eficiente. Primeiro, os dados são preparados para garantir consistência e reprodutibilidade. Em seguida, é criada uma rede neural com hiperparâmetros ajustáveis, como número de camadas, unidades, taxa de dropout e taxa de aprendizado. O desempenho de cada configuração é avaliado por validação cruzada estratificada, utilizando a métrica AUC como referência. Depois, é feita uma busca aleatória para explorar várias combinações e, em seguida, um grid search fino para refinar os melhores parâmetros encontrados. Por fim, o modelo é treinado com esses parâmetros otimizados para obter o melhor desempenho possível."
      ],
      "metadata": {
        "id": "Ckywj9wRS7GI"
      },
      "id": "Ckywj9wRS7GI"
    },
    {
      "cell_type": "code",
      "execution_count": 7,
      "id": "dbe3c633",
      "metadata": {
        "id": "dbe3c633",
        "colab": {
          "base_uri": "https://localhost:8080/"
        },
        "outputId": "6a3bca9c-3ec6-4728-8bff-6797d5370e79"
      },
      "outputs": [
        {
          "output_type": "stream",
          "name": "stdout",
          "text": [
            "[Randomized 1/5] AUC=0.95084 | {'n_hidden': 3, 'units': 195, 'dropout': 0.4, 'lr': 0.00028470180255100677, 'batch_size': 4096, 'epochs': 15, 'patience': 2}\n",
            "[Randomized 2/5] AUC=0.78289 | {'n_hidden': 1, 'units': 118, 'dropout': 0.1, 'lr': 0.00024345423962016954, 'batch_size': 2048, 'epochs': 15, 'patience': 2}\n",
            "[Randomized 3/5] AUC=0.52444 | {'n_hidden': 1, 'units': 115, 'dropout': 0.2, 'lr': 0.00011245798259119348, 'batch_size': 4096, 'epochs': 25, 'patience': 2}\n",
            "[Randomized 4/5] AUC=0.89272 | {'n_hidden': 2, 'units': 53, 'dropout': 0.1, 'lr': 0.0002820996133514494, 'batch_size': 2048, 'epochs': 15, 'patience': 2}\n",
            "[Randomized 5/5] AUC=0.96107 | {'n_hidden': 2, 'units': 37, 'dropout': 0.4, 'lr': 0.0011748439548007038, 'batch_size': 2048, 'epochs': 15, 'patience': 2}\n",
            "\n",
            "Melhores parâmetros (Randomized): {'n_hidden': 2, 'units': 37, 'dropout': 0.4, 'lr': 0.0011748439548007038, 'batch_size': 2048, 'epochs': 15, 'patience': 2}\n",
            "Melhor AUC (cv) Randomized: 0.9610698995814799\n",
            "[Grid] AUC=0.95633 | {'n_hidden': 2, 'units': 37, 'dropout': 0.4, 'lr': 0.0011748439548007038, 'batch_size': 2048, 'epochs': 15, 'patience': 2}\n",
            "[Grid] AUC=0.92817 | {'n_hidden': 2, 'units': 37, 'dropout': 0.4, 'lr': 0.0005874219774003519, 'batch_size': 2048, 'epochs': 15, 'patience': 2}\n",
            "\n",
            "Melhores parâmetros (Grid): {'n_hidden': 2, 'units': 37, 'dropout': 0.4, 'lr': 0.0011748439548007038, 'batch_size': 2048, 'epochs': 15, 'patience': 2}\n",
            "Melhor AUC (cv) Grid: 0.9563278825415658\n",
            "\n",
            "Modelo final treinado com hiperparâmetros do Grid (FAST MODE).\n"
          ]
        }
      ],
      "source": [
        "# ============================================\n",
        "# Hyperparam tuning Keras PURO (compatível c/ scikit-learn 1.6+)\n",
        "# - Randomized Search (rápido)\n",
        "# - Grid fino em torno do melhor (compacto)\n",
        "# - CV estratificado + métrica ROC AUC\n",
        "# - Sem SciKeras (evita __sklearn_tags__)\n",
        "# ============================================\n",
        "\n",
        "import numpy as np\n",
        "from sklearn.model_selection import StratifiedKFold, StratifiedShuffleSplit\n",
        "from sklearn.metrics import roc_auc_score\n",
        "import tensorflow as tf\n",
        "\n",
        "# ---------- (Opcional) threads mais previsíveis em CPU ----------\n",
        "try:\n",
        "    tf.config.threading.set_intra_op_parallelism_threads(1)\n",
        "    tf.config.threading.set_inter_op_parallelism_threads(1)\n",
        "    import os\n",
        "    os.environ[\"OMP_NUM_THREADS\"] = \"1\"\n",
        "except Exception:\n",
        "    pass\n",
        "\n",
        "# ---------- Reprodutibilidade ----------\n",
        "np.random.seed(42)\n",
        "tf.random.set_seed(42)\n",
        "\n",
        "# ---------- util: garantir arrays NumPy mesmo que X/y sejam pandas ----------\n",
        "def to_np(a):\n",
        "    if hasattr(a, \"to_numpy\"):\n",
        "        return a.to_numpy()\n",
        "    if hasattr(a, \"values\"):\n",
        "        return a.values\n",
        "    return np.asarray(a)\n",
        "\n",
        "X_np = to_np(X_train_scaled)\n",
        "y_np = to_np(y_train).ravel().astype(int)\n",
        "\n",
        "# ---------- Modelo ----------\n",
        "def make_model(n_hidden=2, units=64, dropout=0.2, lr=1e-3, input_dim=None):\n",
        "    if input_dim is None:\n",
        "        input_dim = X_np.shape[1]\n",
        "    model = keras.Sequential()\n",
        "    model.add(layers.Input(shape=(input_dim,)))\n",
        "    for _ in range(int(n_hidden)):\n",
        "        model.add(layers.Dense(int(units), activation=\"relu\"))\n",
        "        model.add(layers.Dropout(float(dropout)))\n",
        "    model.add(layers.Dense(1, activation=\"sigmoid\"))\n",
        "    opt = keras.optimizers.Adam(learning_rate=float(lr))\n",
        "    # nome da métrica \"auc\" para monitorar \"val_auc\"\n",
        "    model.compile(optimizer=opt, loss=\"binary_crossentropy\",\n",
        "                  metrics=[keras.metrics.AUC(name=\"auc\")])\n",
        "    return model\n",
        "\n",
        "# ---------- Avaliação por CV ----------\n",
        "def cv_auc_score(params, X, y, n_splits=3, random_state=42, verbose=0):\n",
        "    \"\"\"Treina/avalia por K-fold estratificado e retorna AUC médio de validação.\"\"\"\n",
        "    p = dict(params)\n",
        "    p.setdefault(\"n_hidden\", 2)\n",
        "    p.setdefault(\"units\", 64)\n",
        "    p.setdefault(\"dropout\", 0.2)\n",
        "    p.setdefault(\"lr\", 1e-3)\n",
        "    p.setdefault(\"batch_size\", 2048)\n",
        "    p.setdefault(\"epochs\", 40)\n",
        "    p.setdefault(\"patience\", 4)\n",
        "\n",
        "    kf = StratifiedKFold(n_splits=n_splits, shuffle=True, random_state=random_state)\n",
        "    aucs = []\n",
        "\n",
        "    for fold, (train_idx, val_idx) in enumerate(kf.split(X, y), start=1):\n",
        "        tf.keras.backend.clear_session()\n",
        "        model = make_model(n_hidden=p[\"n_hidden\"], units=p[\"units\"], dropout=p[\"dropout\"],\n",
        "                           lr=p[\"lr\"], input_dim=X.shape[1])\n",
        "\n",
        "        callbacks = [\n",
        "            keras.callbacks.EarlyStopping(\n",
        "                monitor=\"val_auc\", mode=\"max\",\n",
        "                patience=int(p[\"patience\"]), restore_best_weights=True\n",
        "            )\n",
        "        ]\n",
        "\n",
        "        model.fit(\n",
        "            X[train_idx], y[train_idx],\n",
        "            validation_data=(X[val_idx], y[val_idx]),\n",
        "            epochs=int(p[\"epochs\"]),\n",
        "            batch_size=int(p[\"batch_size\"]),\n",
        "            verbose=0,\n",
        "            callbacks=callbacks\n",
        "        )\n",
        "\n",
        "        y_proba = model.predict(X[val_idx], verbose=0).ravel()\n",
        "        auc = roc_auc_score(y[val_idx], y_proba)\n",
        "        aucs.append(auc)\n",
        "\n",
        "        if verbose:\n",
        "            print(f\"  Fold {fold}/{n_splits}: AUC={auc:.5f}\")\n",
        "\n",
        "    return float(np.mean(aucs))\n",
        "\n",
        "# ---------- Amostradores ESCALARES (sem DeprecationWarning) ----------\n",
        "def sample_loguniform(low, high, rng):\n",
        "    return float(np.exp(rng.uniform(np.log(low), np.log(high))))\n",
        "\n",
        "def sample_randint(low, high, rng):\n",
        "    # high exclusivo, retorna escalar\n",
        "    return int(rng.randint(low, high))\n",
        "\n",
        "# ---------- Randomized Search ----------\n",
        "def randomized_search_keras(\n",
        "    X, y,\n",
        "    n_iter=5,              # FAST MODE: antes 15\n",
        "    cv_splits=2,           # FAST MODE: antes 3\n",
        "    random_state=42,\n",
        "    n_hidden_space=(1, 4),         # randint [1,4)\n",
        "    units_space=(16, 256),         # randint [16,256)\n",
        "    dropout_choices=(0.0, 0.1, 0.2, 0.3, 0.4),\n",
        "    lr_log_space=(1e-4, 3e-2),     # log-uniform\n",
        "    batch_choices=(2048, 4096),    # FAST MODE: batches maiores = menos steps/epoch\n",
        "    epoch_choices=(15, 25),        # FAST MODE: antes (30, 40, 60)\n",
        "    patience=2                     # FAST MODE: early stopping mais agressivo\n",
        "):\n",
        "    rng = np.random.RandomState(random_state)\n",
        "    results = []\n",
        "    best = {\"score\": -np.inf, \"params\": None}\n",
        "\n",
        "    for i in range(n_iter):\n",
        "        params = {\n",
        "            \"n_hidden\": sample_randint(n_hidden_space[0], n_hidden_space[1], rng),\n",
        "            \"units\": sample_randint(units_space[0], units_space[1], rng),\n",
        "            \"dropout\": float(rng.choice(dropout_choices)),\n",
        "            \"lr\": sample_loguniform(lr_log_space[0], lr_log_space[1], rng),\n",
        "            \"batch_size\": int(rng.choice(batch_choices)),\n",
        "            \"epochs\": int(rng.choice(epoch_choices)),\n",
        "            \"patience\": int(patience),\n",
        "        }\n",
        "        score = cv_auc_score(params, X, y, n_splits=cv_splits, random_state=random_state)\n",
        "        results.append((params, score))\n",
        "        if score > best[\"score\"]:\n",
        "            best = {\"score\": score, \"params\": params}\n",
        "        print(f\"[Randomized {i+1}/{n_iter}] AUC={score:.5f} | {params}\")\n",
        "\n",
        "    return best, results\n",
        "\n",
        "# ---------- Grid fino (compacto) ----------\n",
        "def local_grid_search_keras(\n",
        "    X, y, best_params, cv_splits=2, random_state=42, fast=True\n",
        "):\n",
        "    bp = dict(best_params)\n",
        "\n",
        "    if fast:\n",
        "        # Vizinhança compacta (muito mais rápido)\n",
        "        n_hidden_list = [bp[\"n_hidden\"]]\n",
        "        units_list    = [bp[\"units\"]]\n",
        "        drop          = float(bp[\"dropout\"])\n",
        "        dropout_list  = [round(drop, 2)]\n",
        "        lr_list       = [bp[\"lr\"], bp[\"lr\"]/2.0]  # 2 pontos\n",
        "        batch_list    = [max(2048, int(bp.get(\"batch_size\", 2048)))]\n",
        "        epoch_list    = [min(25, int(bp.get(\"epochs\", 25)))]\n",
        "    else:\n",
        "        # Vizinhança mais ampla (mais lenta)\n",
        "        n_hidden_list = sorted(set([max(1, bp[\"n_hidden\"]-1), bp[\"n_hidden\"], bp[\"n_hidden\"]+1]))\n",
        "        units_list    = sorted(set([max(16, bp[\"units\"]//2), bp[\"units\"], min(512, bp[\"units\"]*2)]))\n",
        "        drop          = float(bp[\"dropout\"])\n",
        "        dropout_list  = sorted(set([max(0.0, round(drop-0.1, 2)), round(drop, 2), min(0.5, round(drop+0.1, 2))]))\n",
        "        lr_list       = [bp[\"lr\"]/2.0, bp[\"lr\"], bp[\"lr\"]*2.0]\n",
        "        batch_list    = [1024, 2048]\n",
        "        epoch_list    = [40, 60]\n",
        "\n",
        "    grid_results = []\n",
        "    best = {\"score\": -np.inf, \"params\": None}\n",
        "\n",
        "    for nh in n_hidden_list:\n",
        "        for un in units_list:\n",
        "            for dr in dropout_list:\n",
        "                for lr in lr_list:\n",
        "                    for bs in batch_list:\n",
        "                        for ep in epoch_list:\n",
        "                            params = {\n",
        "                                \"n_hidden\": int(nh),\n",
        "                                \"units\": int(un),\n",
        "                                \"dropout\": float(dr),\n",
        "                                \"lr\": float(lr),\n",
        "                                \"batch_size\": int(bs),\n",
        "                                \"epochs\": int(ep),\n",
        "                                \"patience\": 2,  # agressivo no grid\n",
        "                            }\n",
        "                            score = cv_auc_score(params, X, y, n_splits=cv_splits, random_state=random_state)\n",
        "                            grid_results.append((params, score))\n",
        "                            if score > best[\"score\"]:\n",
        "                                best = {\"score\": score, \"params\": params}\n",
        "                            print(f\"[Grid] AUC={score:.5f} | {params}\")\n",
        "\n",
        "    return best, grid_results\n",
        "\n",
        "# =============== EXECUÇÃO (FAST MODE) ===============\n",
        "# Dica: se quiser ainda mais velocidade, descomente o bloco de subamostragem abaixo.\n",
        "\"\"\"\n",
        "# --- Subamostragem estratificada para protótipo rápido (mantém 30% da base) ---\n",
        "sss = StratifiedShuffleSplit(n_splits=1, test_size=0.70, random_state=42)\n",
        "for small_idx, _ in sss.split(X_np, y_np):\n",
        "    X_run = X_np[small_idx]\n",
        "    y_run = y_np[small_idx]\n",
        "\"\"\"\n",
        "# Sem subamostra: rode na base toda\n",
        "X_run, y_run = X_np, y_np\n",
        "\n",
        "# 1) Randomized\n",
        "best_random, random_results = randomized_search_keras(\n",
        "    X_run, y_run,\n",
        "    n_iter=5, cv_splits=2, random_state=42,\n",
        "    epoch_choices=(15, 25), batch_choices=(2048, 4096), patience=2\n",
        ")\n",
        "print(\"\\nMelhores parâmetros (Randomized):\", best_random[\"params\"])\n",
        "print(\"Melhor AUC (cv) Randomized:\", best_random[\"score\"])\n",
        "\n",
        "# 2) Grid fino (compacto)\n",
        "best_grid, grid_results = local_grid_search_keras(\n",
        "    X_run, y_run, best_params=best_random[\"params\"], cv_splits=2, random_state=42, fast=True\n",
        ")\n",
        "print(\"\\nMelhores parâmetros (Grid):\", best_grid[\"params\"])\n",
        "print(\"Melhor AUC (cv) Grid:\", best_grid[\"score\"])\n",
        "\n",
        "# 3) Treino final no conjunto COMPLETO com os melhores hiperparâmetros\n",
        "tf.keras.backend.clear_session()\n",
        "tuned = make_model(**{k: best_grid[\"params\"][k] for k in [\"n_hidden\", \"units\", \"dropout\", \"lr\"]})\n",
        "hist = tuned.fit(\n",
        "    X_np, y_np,\n",
        "    validation_split=0.2,\n",
        "    epochs=int(min(25, best_grid[\"params\"][\"epochs\"])),\n",
        "    batch_size=int(best_grid[\"params\"][\"batch_size\"]),\n",
        "    callbacks=[keras.callbacks.EarlyStopping(monitor=\"val_auc\", mode=\"max\", patience=2, restore_best_weights=True)],\n",
        "    verbose=0\n",
        ")\n",
        "\n",
        "print(\"\\nModelo final treinado com hiperparâmetros do Grid (FAST MODE).\")\n"
      ]
    },
    {
      "cell_type": "markdown",
      "source": [
        "**Resultados do Tuning**\n",
        "\n",
        "**Busca aleatória (Randomized Search)**  \n",
        "- Melhor conjunto alcançou **AUC ≈ 0.961**, indicando ótima separação entre fraudes e não fraudes.  \n",
        "- **Hiperparâmetros ideais nessa fase:**  \n",
        "  - 2 camadas ocultas  \n",
        "  - 37 neurônios por camada  \n",
        "  - Dropout: 0.4  \n",
        "  - Learning rate: ~0.00117  \n",
        "  - Batch size: 2048  \n",
        "  - 15 épocas  \n",
        "\n",
        "**Grid search fino (Grid)**  \n",
        "- Refinou os resultados ao redor do melhor conjunto.  \n",
        "- Resultado: **AUC ≈ 0.956**, próximo ao obtido na busca aleatória.  \n",
        "- Confirma a **robustez** da configuração escolhida.  \n",
        "\n",
        "**Conclusão**  \n",
        "- O modelo final está **bem ajustado**, equilibrando complexidade e regularização.  \n",
        "- A pequena queda da AUC entre **Randomized (0.961)** e **Grid (0.956)** sugere **boa estabilidade**, sem sinais fortes de overfitting nessa etapa.  \n"
      ],
      "metadata": {
        "id": "1NVK_DedTOxS"
      },
      "id": "1NVK_DedTOxS"
    },
    {
      "cell_type": "markdown",
      "id": "f0db9f92",
      "metadata": {
        "id": "f0db9f92"
      },
      "source": [
        "### Métricas do modelo otimizado"
      ]
    },
    {
      "cell_type": "markdown",
      "source": [
        "Esse trecho avalia o desempenho do modelo otimizado no conjunto de teste. Ele gera as probabilidades de classificação, converte em predições com threshold de 0,5 e calcula as métricas principais: acurácia, precisão, recall, F1 e AUC. Além disso, exibe a matriz de confusão para analisar erros e acertos e plota a curva ROC, comparando a performance do modelo otimizado com a do modelo base."
      ],
      "metadata": {
        "id": "SDYJNl0WTe2P"
      },
      "id": "SDYJNl0WTe2P"
    },
    {
      "cell_type": "code",
      "execution_count": 9,
      "id": "337014f0",
      "metadata": {
        "id": "337014f0",
        "colab": {
          "base_uri": "https://localhost:8080/",
          "height": 663
        },
        "outputId": "135c90f3-071e-419d-e1a8-91ec445df097"
      },
      "outputs": [
        {
          "output_type": "stream",
          "name": "stdout",
          "text": [
            "\u001b[1m1781/1781\u001b[0m \u001b[32m━━━━━━━━━━━━━━━━━━━━\u001b[0m\u001b[37m\u001b[0m \u001b[1m4s\u001b[0m 2ms/step\n",
            "accuracy     0.999298\n",
            "precision    0.837209\n",
            "recall       0.734694\n",
            "f1           0.782609\n",
            "auc          0.974588\n",
            "dtype: float64\n",
            "\n",
            "Matriz de confusão (otimizado):\n",
            " [[56850    14]\n",
            " [   26    72]]\n"
          ]
        },
        {
          "output_type": "display_data",
          "data": {
            "text/plain": [
              "<Figure size 640x480 with 1 Axes>"
            ],
            "image/png": "[encoded data removed]"
          },
          "metadata": {}
        }
      ],
      "source": [
        "from sklearn.metrics import accuracy_score, precision_score, recall_score, f1_score, roc_auc_score, confusion_matrix, roc_curve\n",
        "import matplotlib.pyplot as plt\n",
        "import pandas as pd\n",
        "\n",
        "# Obter probabilidades diretamente\n",
        "y_prob_tuned = tuned.predict(X_test_scaled).ravel()  # retorna probabilidades da classe positiva\n",
        "y_pred_tuned = (y_prob_tuned >= 0.5).astype(int)     # threshold padrão 0.5\n",
        "\n",
        "# Métricas\n",
        "metrics_tuned = {\n",
        "    \"accuracy\": accuracy_score(y_test, y_pred_tuned),\n",
        "    \"precision\": precision_score(y_test, y_pred_tuned, zero_division=0),\n",
        "    \"recall\": recall_score(y_test, y_pred_tuned, zero_division=0),\n",
        "    \"f1\": f1_score(y_test, y_pred_tuned, zero_division=0),\n",
        "    \"auc\": roc_auc_score(y_test, y_prob_tuned),\n",
        "}\n",
        "\n",
        "print(pd.Series(metrics_tuned))\n",
        "\n",
        "# Matriz de confusão\n",
        "cm_tuned = confusion_matrix(y_test, y_pred_tuned)\n",
        "print(\"\\nMatriz de confusão (otimizado):\\n\", cm_tuned)\n",
        "\n",
        "# Curvas ROC (comparação com modelo base)\n",
        "fpr_t, tpr_t, _ = roc_curve(y_test, y_prob_tuned)\n",
        "\n",
        "plt.figure()\n",
        "plt.plot(fpr_b, tpr_b, label=f\"Base (AUC={metrics_base['auc']:.4f})\")\n",
        "plt.plot(fpr_t, tpr_t, label=f\"Otimizado (AUC={metrics_tuned['auc']:.4f})\")\n",
        "plt.plot([0, 1], [0, 1], '--', color='gray')\n",
        "plt.xlabel(\"FPR\")\n",
        "plt.ylabel(\"TPR\")\n",
        "plt.title(\"ROC - Comparação\")\n",
        "plt.legend()\n",
        "plt.show()\n"
      ]
    },
    {
      "cell_type": "markdown",
      "source": [
        "**Resultados do Modelo Otimizado**\n",
        "\n",
        "- **AUC**: 0.9746 (levemente abaixo do baseline de 0.9781 → desempenho muito próximo na separação entre fraudes e não fraudes).  \n",
        "- **Accuracy**: 99,93% (praticamente igual ao modelo base).  \n",
        "- **Precision**: 0.84 (leve ganho → menos falsos positivos).  \n",
        "- **Recall**: 0.73 (pequena queda → algumas fraudes a mais não foram detectadas).  \n",
        "- **F1**: 0.78 (equilíbrio razoável entre precisão e recall).  \n",
        "\n",
        "**Matriz de Confusão**\n",
        "\n",
        "[[56850    14]\n",
        "\n",
        " [   26    72]]\n",
        "\n",
        "\n",
        "- **Falsos positivos**: 14 (classificadas como fraude sem ser).  \n",
        "- **Falsos negativos**: 26 (fraudes não detectadas).  \n",
        "\n",
        "---\n",
        "\n",
        "**Resumo**  \n",
        "- O ajuste **melhorou a precisão**, mas **reduziu o recall**.  \n",
        "- O modelo está **estável e robusto**.  \n",
        "- Possíveis próximos passos:  \n",
        "  - Ajustar o **threshold** para aumentar a captura de fraudes.  \n",
        "  - Aplicar **técnicas de balanceamento** (oversampling, undersampling ou geração sintética) para melhorar a sensibilidade.  \n",
        "\n"
      ],
      "metadata": {
        "id": "GgFLI4ZITtM1"
      },
      "id": "GgFLI4ZITtM1"
    },
    {
      "cell_type": "markdown",
      "id": "a4adf0de",
      "metadata": {
        "id": "a4adf0de"
      },
      "source": [
        "## 6) Comparação e salvamento de resultados"
      ]
    },
    {
      "cell_type": "markdown",
      "source": [
        "Esse trecho organiza as métricas de desempenho dos modelos baseline e otimizado em uma tabela e as salva no arquivo resultados_metricas.csv. Além disso, exporta as matrizes de confusão dos dois modelos para arquivos separados (matriz_confusao_base.csv e matriz_confusao_otim.csv), facilitando a análise e comparação dos resultados."
      ],
      "metadata": {
        "id": "KWGW8bvQUApc"
      },
      "id": "KWGW8bvQUApc"
    },
    {
      "cell_type": "code",
      "execution_count": 10,
      "id": "cf5db543",
      "metadata": {
        "id": "cf5db543",
        "colab": {
          "base_uri": "https://localhost:8080/"
        },
        "outputId": "3c98600c-a5fb-4337-e541-26e7de5d3e46"
      },
      "outputs": [
        {
          "output_type": "stream",
          "name": "stdout",
          "text": [
            "          accuracy  precision    recall        f1       auc\n",
            "Baseline  0.999350   0.801980  0.826531  0.814070  0.978148\n",
            "Tuned     0.999298   0.837209  0.734694  0.782609  0.974588\n",
            "\n",
            "Arquivos gerados: resultados_metricas.csv, matriz_confusao_base.csv, matriz_confusao_otim.csv\n"
          ]
        }
      ],
      "source": [
        "results = pd.DataFrame([metrics_base, metrics_tuned], index=['Baseline', 'Tuned'])\n",
        "print(results)\n",
        "\n",
        "results.to_csv(\"resultados_metricas.csv\", index=True)\n",
        "pd.DataFrame(cm_base, index=[\"Neg(Base)\",\"Pos(Base)\"], columns=[\"Pred Neg\",\"Pred Pos\"]).to_csv(\"matriz_confusao_base.csv\")\n",
        "pd.DataFrame(cm_tuned, index=[\"Neg(Tuned)\",\"Pos(Tuned)\"], columns=[\"Pred Neg\",\"Pred Pos\"]).to_csv(\"matriz_confusao_otim.csv\")\n",
        "\n",
        "print(\"\\nArquivos gerados: resultados_metricas.csv, matriz_confusao_base.csv, matriz_confusao_otim.csv\")"
      ]
    },
    {
      "cell_type": "markdown",
      "source": [
        "**Comparação Baseline x Tuned**\n",
        "\n",
        "- **Baseline**\n",
        "  - AUC: 0.978 → ligeiramente superior.  \n",
        "  - Recall: 0.83 → identifica mais fraudes.  \n",
        "\n",
        "- **Tuned**\n",
        "  - Precision: 0.84 → menos falsos positivos.  \n",
        "  - Recall: 0.73 → pequena queda, deixa escapar mais fraudes.  \n",
        "  - F1 e AUC: levemente abaixo do baseline.  \n",
        "\n",
        "---\n",
        "\n",
        "**Resumo**  \n",
        "- O **modelo otimizado** é mais **conservador**: reduz falsos alarmes (melhor precisão), mas sacrifica um pouco a captura de fraudes (menor recall).  \n",
        "- O **baseline** é mais **sensível**, capturando mais fraudes, ainda que com mais falsos positivos.  \n",
        "- Ambos os modelos foram exportados em **arquivos CSV** para análise detalhada.  \n"
      ],
      "metadata": {
        "id": "IEv8N8QRUCEe"
      },
      "id": "IEv8N8QRUCEe"
    },
    {
      "cell_type": "markdown",
      "id": "36ae361f",
      "metadata": {
        "id": "36ae361f"
      },
      "source": [
        "## 7) Observações"
      ]
    },
    {
      "cell_type": "markdown",
      "source": [
        "- Ambos os modelos apresentaram **excelente desempenho**, com **AUC > 0.97**, evidenciando alta capacidade de separação entre transações fraudulentas e legítimas.  \n",
        "- O **modelo otimizado** melhorou a **precisão** (menos falsos positivos), mas apresentou queda de **recall**, deixando escapar algumas fraudes que o modelo base identificava.  \n",
        "- As métricas de **acurácia** estão muito altas, mas isso já era esperado devido ao **desbalanceamento extremo da base**.  \n",
        "- Portanto, as métricas mais relevantes para a análise são **AUC, recall e F1**.  \n"
      ],
      "metadata": {
        "id": "5N7_C8CAUShL"
      },
      "id": "5N7_C8CAUShL"
    }
  ],
  "metadata": {
    "colab": {
      "provenance": []
    },
    "language_info": {
      "name": "python"
    },
    "kernelspec": {
      "name": "python3",
      "display_name": "Python 3"
    }
  },
  "nbformat": 4,
  "nbformat_minor": 5
}